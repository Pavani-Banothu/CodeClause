{
  "nbformat": 4,
  "nbformat_minor": 0,
  "metadata": {
    "colab": {
      "provenance": [],
      "mount_file_id": "1LBYnkMPl9ksNmWitA2sEfEXfzmEW-Yc7",
      "authorship_tag": "ABX9TyML5mmmxSILmQy13+I8K/wI",
      "include_colab_link": true
    },
    "kernelspec": {
      "name": "python3",
      "display_name": "Python 3"
    },
    "language_info": {
      "name": "python"
    }
  },
  "cells": [
    {
      "cell_type": "markdown",
      "metadata": {
        "id": "view-in-github",
        "colab_type": "text"
      },
      "source": [
        "<a href=\"https://colab.research.google.com/github/Pavani-Banothu/CodeClause/blob/main/Gold_Price_Prediction.ipynb\" target=\"_parent\"><img src=\"https://colab.research.google.com/assets/colab-badge.svg\" alt=\"Open In Colab\"/></a>"
      ]
    },
    {
      "cell_type": "markdown",
      "source": [
        "# **Report:**\n",
        "\n",
        "\n",
        "# > Gold Price Prediction\n",
        "\n"
      ],
      "metadata": {
        "id": "kKJCam3aRTWg"
      }
    },
    {
      "cell_type": "markdown",
      "source": [
        "Importing Libraries"
      ],
      "metadata": {
        "id": "lZXlXoi96lc3"
      }
    },
    {
      "cell_type": "code",
      "source": [
        "dataset_link = \"/content/drive/MyDrive/FINAL_USO.csv\""
      ],
      "metadata": {
        "id": "HfRuIJQ7n_-t"
      },
      "execution_count": null,
      "outputs": []
    },
    {
      "cell_type": "code",
      "source": [
        "import numpy as np\n",
        "import pandas as pd\n",
        "\n",
        "dataset = pd.read_csv(dataset_link)"
      ],
      "metadata": {
        "id": "JG9Idt25pyDr"
      },
      "execution_count": null,
      "outputs": []
    },
    {
      "cell_type": "code",
      "source": [
        "dataset.head()"
      ],
      "metadata": {
        "colab": {
          "base_uri": "https://localhost:8080/",
          "height": 446
        },
        "id": "8YUXusijp5qg",
        "outputId": "32adde2a-ab34-487e-ae08-028d707c9fce"
      },
      "execution_count": null,
      "outputs": [
        {
          "output_type": "execute_result",
          "data": {
            "text/plain": [
              "         Date        Open        High         Low       Close   Adj Close  \\\n",
              "0  2011-12-15  154.740005  154.949997  151.710007  152.330002  152.330002   \n",
              "1  2011-12-16  154.309998  155.369995  153.899994  155.229996  155.229996   \n",
              "2  2011-12-19  155.479996  155.860001  154.360001  154.869995  154.869995   \n",
              "3  2011-12-20  156.820007  157.429993  156.580002  156.979996  156.979996   \n",
              "4  2011-12-21  156.979996  157.529999  156.130005  157.160004  157.160004   \n",
              "\n",
              "     Volume     SP_open     SP_high      SP_low  ...    GDX_Low  GDX_Close  \\\n",
              "0  21521900  123.029999  123.199997  121.989998  ...  51.570000  51.680000   \n",
              "1  18124300  122.230003  122.949997  121.300003  ...  52.040001  52.680000   \n",
              "2  12547200  122.059998  122.320000  120.029999  ...  51.029999  51.169998   \n",
              "3   9136300  122.180000  124.139999  120.370003  ...  52.369999  52.990002   \n",
              "4  11996100  123.930000  124.360001  122.750000  ...  52.419998  52.959999   \n",
              "\n",
              "   GDX_Adj Close  GDX_Volume   USO_Open   USO_High    USO_Low  USO_Close  \\\n",
              "0      48.973877    20605600  36.900002  36.939999  36.049999  36.130001   \n",
              "1      49.921513    16285400  36.180000  36.500000  35.730000  36.270000   \n",
              "2      48.490578    15120200  36.389999  36.450001  35.930000  36.200001   \n",
              "3      50.215282    11644900  37.299999  37.610001  37.220001  37.560001   \n",
              "4      50.186852     8724300  37.669998  38.240002  37.520000  38.110001   \n",
              "\n",
              "   USO_Adj Close  USO_Volume  \n",
              "0      36.130001    12616700  \n",
              "1      36.270000    12578800  \n",
              "2      36.200001     7418200  \n",
              "3      37.560001    10041600  \n",
              "4      38.110001    10728000  \n",
              "\n",
              "[5 rows x 81 columns]"
            ],
            "text/html": [
              "\n",
              "  <div id=\"df-1d8a9ec5-3cb8-4276-a69c-c7c4d223a161\" class=\"colab-df-container\">\n",
              "    <div>\n",
              "<style scoped>\n",
              "    .dataframe tbody tr th:only-of-type {\n",
              "        vertical-align: middle;\n",
              "    }\n",
              "\n",
              "    .dataframe tbody tr th {\n",
              "        vertical-align: top;\n",
              "    }\n",
              "\n",
              "    .dataframe thead th {\n",
              "        text-align: right;\n",
              "    }\n",
              "</style>\n",
              "<table border=\"1\" class=\"dataframe\">\n",
              "  <thead>\n",
              "    <tr style=\"text-align: right;\">\n",
              "      <th></th>\n",
              "      <th>Date</th>\n",
              "      <th>Open</th>\n",
              "      <th>High</th>\n",
              "      <th>Low</th>\n",
              "      <th>Close</th>\n",
              "      <th>Adj Close</th>\n",
              "      <th>Volume</th>\n",
              "      <th>SP_open</th>\n",
              "      <th>SP_high</th>\n",
              "      <th>SP_low</th>\n",
              "      <th>...</th>\n",
              "      <th>GDX_Low</th>\n",
              "      <th>GDX_Close</th>\n",
              "      <th>GDX_Adj Close</th>\n",
              "      <th>GDX_Volume</th>\n",
              "      <th>USO_Open</th>\n",
              "      <th>USO_High</th>\n",
              "      <th>USO_Low</th>\n",
              "      <th>USO_Close</th>\n",
              "      <th>USO_Adj Close</th>\n",
              "      <th>USO_Volume</th>\n",
              "    </tr>\n",
              "  </thead>\n",
              "  <tbody>\n",
              "    <tr>\n",
              "      <th>0</th>\n",
              "      <td>2011-12-15</td>\n",
              "      <td>154.740005</td>\n",
              "      <td>154.949997</td>\n",
              "      <td>151.710007</td>\n",
              "      <td>152.330002</td>\n",
              "      <td>152.330002</td>\n",
              "      <td>21521900</td>\n",
              "      <td>123.029999</td>\n",
              "      <td>123.199997</td>\n",
              "      <td>121.989998</td>\n",
              "      <td>...</td>\n",
              "      <td>51.570000</td>\n",
              "      <td>51.680000</td>\n",
              "      <td>48.973877</td>\n",
              "      <td>20605600</td>\n",
              "      <td>36.900002</td>\n",
              "      <td>36.939999</td>\n",
              "      <td>36.049999</td>\n",
              "      <td>36.130001</td>\n",
              "      <td>36.130001</td>\n",
              "      <td>12616700</td>\n",
              "    </tr>\n",
              "    <tr>\n",
              "      <th>1</th>\n",
              "      <td>2011-12-16</td>\n",
              "      <td>154.309998</td>\n",
              "      <td>155.369995</td>\n",
              "      <td>153.899994</td>\n",
              "      <td>155.229996</td>\n",
              "      <td>155.229996</td>\n",
              "      <td>18124300</td>\n",
              "      <td>122.230003</td>\n",
              "      <td>122.949997</td>\n",
              "      <td>121.300003</td>\n",
              "      <td>...</td>\n",
              "      <td>52.040001</td>\n",
              "      <td>52.680000</td>\n",
              "      <td>49.921513</td>\n",
              "      <td>16285400</td>\n",
              "      <td>36.180000</td>\n",
              "      <td>36.500000</td>\n",
              "      <td>35.730000</td>\n",
              "      <td>36.270000</td>\n",
              "      <td>36.270000</td>\n",
              "      <td>12578800</td>\n",
              "    </tr>\n",
              "    <tr>\n",
              "      <th>2</th>\n",
              "      <td>2011-12-19</td>\n",
              "      <td>155.479996</td>\n",
              "      <td>155.860001</td>\n",
              "      <td>154.360001</td>\n",
              "      <td>154.869995</td>\n",
              "      <td>154.869995</td>\n",
              "      <td>12547200</td>\n",
              "      <td>122.059998</td>\n",
              "      <td>122.320000</td>\n",
              "      <td>120.029999</td>\n",
              "      <td>...</td>\n",
              "      <td>51.029999</td>\n",
              "      <td>51.169998</td>\n",
              "      <td>48.490578</td>\n",
              "      <td>15120200</td>\n",
              "      <td>36.389999</td>\n",
              "      <td>36.450001</td>\n",
              "      <td>35.930000</td>\n",
              "      <td>36.200001</td>\n",
              "      <td>36.200001</td>\n",
              "      <td>7418200</td>\n",
              "    </tr>\n",
              "    <tr>\n",
              "      <th>3</th>\n",
              "      <td>2011-12-20</td>\n",
              "      <td>156.820007</td>\n",
              "      <td>157.429993</td>\n",
              "      <td>156.580002</td>\n",
              "      <td>156.979996</td>\n",
              "      <td>156.979996</td>\n",
              "      <td>9136300</td>\n",
              "      <td>122.180000</td>\n",
              "      <td>124.139999</td>\n",
              "      <td>120.370003</td>\n",
              "      <td>...</td>\n",
              "      <td>52.369999</td>\n",
              "      <td>52.990002</td>\n",
              "      <td>50.215282</td>\n",
              "      <td>11644900</td>\n",
              "      <td>37.299999</td>\n",
              "      <td>37.610001</td>\n",
              "      <td>37.220001</td>\n",
              "      <td>37.560001</td>\n",
              "      <td>37.560001</td>\n",
              "      <td>10041600</td>\n",
              "    </tr>\n",
              "    <tr>\n",
              "      <th>4</th>\n",
              "      <td>2011-12-21</td>\n",
              "      <td>156.979996</td>\n",
              "      <td>157.529999</td>\n",
              "      <td>156.130005</td>\n",
              "      <td>157.160004</td>\n",
              "      <td>157.160004</td>\n",
              "      <td>11996100</td>\n",
              "      <td>123.930000</td>\n",
              "      <td>124.360001</td>\n",
              "      <td>122.750000</td>\n",
              "      <td>...</td>\n",
              "      <td>52.419998</td>\n",
              "      <td>52.959999</td>\n",
              "      <td>50.186852</td>\n",
              "      <td>8724300</td>\n",
              "      <td>37.669998</td>\n",
              "      <td>38.240002</td>\n",
              "      <td>37.520000</td>\n",
              "      <td>38.110001</td>\n",
              "      <td>38.110001</td>\n",
              "      <td>10728000</td>\n",
              "    </tr>\n",
              "  </tbody>\n",
              "</table>\n",
              "<p>5 rows × 81 columns</p>\n",
              "</div>\n",
              "    <div class=\"colab-df-buttons\">\n",
              "\n",
              "  <div class=\"colab-df-container\">\n",
              "    <button class=\"colab-df-convert\" onclick=\"convertToInteractive('df-1d8a9ec5-3cb8-4276-a69c-c7c4d223a161')\"\n",
              "            title=\"Convert this dataframe to an interactive table.\"\n",
              "            style=\"display:none;\">\n",
              "\n",
              "  <svg xmlns=\"http://www.w3.org/2000/svg\" height=\"24px\" viewBox=\"0 -960 960 960\">\n",
              "    <path d=\"M120-120v-720h720v720H120Zm60-500h600v-160H180v160Zm220 220h160v-160H400v160Zm0 220h160v-160H400v160ZM180-400h160v-160H180v160Zm440 0h160v-160H620v160ZM180-180h160v-160H180v160Zm440 0h160v-160H620v160Z\"/>\n",
              "  </svg>\n",
              "    </button>\n",
              "\n",
              "  <style>\n",
              "    .colab-df-container {\n",
              "      display:flex;\n",
              "      gap: 12px;\n",
              "    }\n",
              "\n",
              "    .colab-df-convert {\n",
              "      background-color: #E8F0FE;\n",
              "      border: none;\n",
              "      border-radius: 50%;\n",
              "      cursor: pointer;\n",
              "      display: none;\n",
              "      fill: #1967D2;\n",
              "      height: 32px;\n",
              "      padding: 0 0 0 0;\n",
              "      width: 32px;\n",
              "    }\n",
              "\n",
              "    .colab-df-convert:hover {\n",
              "      background-color: #E2EBFA;\n",
              "      box-shadow: 0px 1px 2px rgba(60, 64, 67, 0.3), 0px 1px 3px 1px rgba(60, 64, 67, 0.15);\n",
              "      fill: #174EA6;\n",
              "    }\n",
              "\n",
              "    .colab-df-buttons div {\n",
              "      margin-bottom: 4px;\n",
              "    }\n",
              "\n",
              "    [theme=dark] .colab-df-convert {\n",
              "      background-color: #3B4455;\n",
              "      fill: #D2E3FC;\n",
              "    }\n",
              "\n",
              "    [theme=dark] .colab-df-convert:hover {\n",
              "      background-color: #434B5C;\n",
              "      box-shadow: 0px 1px 3px 1px rgba(0, 0, 0, 0.15);\n",
              "      filter: drop-shadow(0px 1px 2px rgba(0, 0, 0, 0.3));\n",
              "      fill: #FFFFFF;\n",
              "    }\n",
              "  </style>\n",
              "\n",
              "    <script>\n",
              "      const buttonEl =\n",
              "        document.querySelector('#df-1d8a9ec5-3cb8-4276-a69c-c7c4d223a161 button.colab-df-convert');\n",
              "      buttonEl.style.display =\n",
              "        google.colab.kernel.accessAllowed ? 'block' : 'none';\n",
              "\n",
              "      async function convertToInteractive(key) {\n",
              "        const element = document.querySelector('#df-1d8a9ec5-3cb8-4276-a69c-c7c4d223a161');\n",
              "        const dataTable =\n",
              "          await google.colab.kernel.invokeFunction('convertToInteractive',\n",
              "                                                    [key], {});\n",
              "        if (!dataTable) return;\n",
              "\n",
              "        const docLinkHtml = 'Like what you see? Visit the ' +\n",
              "          '<a target=\"_blank\" href=https://colab.research.google.com/notebooks/data_table.ipynb>data table notebook</a>'\n",
              "          + ' to learn more about interactive tables.';\n",
              "        element.innerHTML = '';\n",
              "        dataTable['output_type'] = 'display_data';\n",
              "        await google.colab.output.renderOutput(dataTable, element);\n",
              "        const docLink = document.createElement('div');\n",
              "        docLink.innerHTML = docLinkHtml;\n",
              "        element.appendChild(docLink);\n",
              "      }\n",
              "    </script>\n",
              "  </div>\n",
              "\n",
              "\n",
              "<div id=\"df-0268a2f8-d96e-4155-a80d-17a682ca2176\">\n",
              "  <button class=\"colab-df-quickchart\" onclick=\"quickchart('df-0268a2f8-d96e-4155-a80d-17a682ca2176')\"\n",
              "            title=\"Suggest charts\"\n",
              "            style=\"display:none;\">\n",
              "\n",
              "<svg xmlns=\"http://www.w3.org/2000/svg\" height=\"24px\"viewBox=\"0 0 24 24\"\n",
              "     width=\"24px\">\n",
              "    <g>\n",
              "        <path d=\"M19 3H5c-1.1 0-2 .9-2 2v14c0 1.1.9 2 2 2h14c1.1 0 2-.9 2-2V5c0-1.1-.9-2-2-2zM9 17H7v-7h2v7zm4 0h-2V7h2v10zm4 0h-2v-4h2v4z\"/>\n",
              "    </g>\n",
              "</svg>\n",
              "  </button>\n",
              "\n",
              "<style>\n",
              "  .colab-df-quickchart {\n",
              "      --bg-color: #E8F0FE;\n",
              "      --fill-color: #1967D2;\n",
              "      --hover-bg-color: #E2EBFA;\n",
              "      --hover-fill-color: #174EA6;\n",
              "      --disabled-fill-color: #AAA;\n",
              "      --disabled-bg-color: #DDD;\n",
              "  }\n",
              "\n",
              "  [theme=dark] .colab-df-quickchart {\n",
              "      --bg-color: #3B4455;\n",
              "      --fill-color: #D2E3FC;\n",
              "      --hover-bg-color: #434B5C;\n",
              "      --hover-fill-color: #FFFFFF;\n",
              "      --disabled-bg-color: #3B4455;\n",
              "      --disabled-fill-color: #666;\n",
              "  }\n",
              "\n",
              "  .colab-df-quickchart {\n",
              "    background-color: var(--bg-color);\n",
              "    border: none;\n",
              "    border-radius: 50%;\n",
              "    cursor: pointer;\n",
              "    display: none;\n",
              "    fill: var(--fill-color);\n",
              "    height: 32px;\n",
              "    padding: 0;\n",
              "    width: 32px;\n",
              "  }\n",
              "\n",
              "  .colab-df-quickchart:hover {\n",
              "    background-color: var(--hover-bg-color);\n",
              "    box-shadow: 0 1px 2px rgba(60, 64, 67, 0.3), 0 1px 3px 1px rgba(60, 64, 67, 0.15);\n",
              "    fill: var(--button-hover-fill-color);\n",
              "  }\n",
              "\n",
              "  .colab-df-quickchart-complete:disabled,\n",
              "  .colab-df-quickchart-complete:disabled:hover {\n",
              "    background-color: var(--disabled-bg-color);\n",
              "    fill: var(--disabled-fill-color);\n",
              "    box-shadow: none;\n",
              "  }\n",
              "\n",
              "  .colab-df-spinner {\n",
              "    border: 2px solid var(--fill-color);\n",
              "    border-color: transparent;\n",
              "    border-bottom-color: var(--fill-color);\n",
              "    animation:\n",
              "      spin 1s steps(1) infinite;\n",
              "  }\n",
              "\n",
              "  @keyframes spin {\n",
              "    0% {\n",
              "      border-color: transparent;\n",
              "      border-bottom-color: var(--fill-color);\n",
              "      border-left-color: var(--fill-color);\n",
              "    }\n",
              "    20% {\n",
              "      border-color: transparent;\n",
              "      border-left-color: var(--fill-color);\n",
              "      border-top-color: var(--fill-color);\n",
              "    }\n",
              "    30% {\n",
              "      border-color: transparent;\n",
              "      border-left-color: var(--fill-color);\n",
              "      border-top-color: var(--fill-color);\n",
              "      border-right-color: var(--fill-color);\n",
              "    }\n",
              "    40% {\n",
              "      border-color: transparent;\n",
              "      border-right-color: var(--fill-color);\n",
              "      border-top-color: var(--fill-color);\n",
              "    }\n",
              "    60% {\n",
              "      border-color: transparent;\n",
              "      border-right-color: var(--fill-color);\n",
              "    }\n",
              "    80% {\n",
              "      border-color: transparent;\n",
              "      border-right-color: var(--fill-color);\n",
              "      border-bottom-color: var(--fill-color);\n",
              "    }\n",
              "    90% {\n",
              "      border-color: transparent;\n",
              "      border-bottom-color: var(--fill-color);\n",
              "    }\n",
              "  }\n",
              "</style>\n",
              "\n",
              "  <script>\n",
              "    async function quickchart(key) {\n",
              "      const quickchartButtonEl =\n",
              "        document.querySelector('#' + key + ' button');\n",
              "      quickchartButtonEl.disabled = true;  // To prevent multiple clicks.\n",
              "      quickchartButtonEl.classList.add('colab-df-spinner');\n",
              "      try {\n",
              "        const charts = await google.colab.kernel.invokeFunction(\n",
              "            'suggestCharts', [key], {});\n",
              "      } catch (error) {\n",
              "        console.error('Error during call to suggestCharts:', error);\n",
              "      }\n",
              "      quickchartButtonEl.classList.remove('colab-df-spinner');\n",
              "      quickchartButtonEl.classList.add('colab-df-quickchart-complete');\n",
              "    }\n",
              "    (() => {\n",
              "      let quickchartButtonEl =\n",
              "        document.querySelector('#df-0268a2f8-d96e-4155-a80d-17a682ca2176 button');\n",
              "      quickchartButtonEl.style.display =\n",
              "        google.colab.kernel.accessAllowed ? 'block' : 'none';\n",
              "    })();\n",
              "  </script>\n",
              "</div>\n",
              "\n",
              "    </div>\n",
              "  </div>\n"
            ]
          },
          "metadata": {},
          "execution_count": 47
        }
      ]
    },
    {
      "cell_type": "code",
      "source": [
        "dataset.info()"
      ],
      "metadata": {
        "colab": {
          "base_uri": "https://localhost:8080/"
        },
        "id": "-9XPcAaMp8mZ",
        "outputId": "5e2607ab-d514-42b0-ea14-b8f8a37f2a91"
      },
      "execution_count": null,
      "outputs": [
        {
          "output_type": "stream",
          "name": "stdout",
          "text": [
            "<class 'pandas.core.frame.DataFrame'>\n",
            "RangeIndex: 1718 entries, 0 to 1717\n",
            "Data columns (total 81 columns):\n",
            " #   Column         Non-Null Count  Dtype  \n",
            "---  ------         --------------  -----  \n",
            " 0   Date           1718 non-null   object \n",
            " 1   Open           1718 non-null   float64\n",
            " 2   High           1718 non-null   float64\n",
            " 3   Low            1718 non-null   float64\n",
            " 4   Close          1718 non-null   float64\n",
            " 5   Adj Close      1718 non-null   float64\n",
            " 6   Volume         1718 non-null   int64  \n",
            " 7   SP_open        1718 non-null   float64\n",
            " 8   SP_high        1718 non-null   float64\n",
            " 9   SP_low         1718 non-null   float64\n",
            " 10  SP_close       1718 non-null   float64\n",
            " 11  SP_Ajclose     1718 non-null   float64\n",
            " 12  SP_volume      1718 non-null   int64  \n",
            " 13  DJ_open        1718 non-null   float64\n",
            " 14  DJ_high        1718 non-null   float64\n",
            " 15  DJ_low         1718 non-null   float64\n",
            " 16  DJ_close       1718 non-null   float64\n",
            " 17  DJ_Ajclose     1718 non-null   float64\n",
            " 18  DJ_volume      1718 non-null   int64  \n",
            " 19  EG_open        1718 non-null   float64\n",
            " 20  EG_high        1718 non-null   float64\n",
            " 21  EG_low         1718 non-null   float64\n",
            " 22  EG_close       1718 non-null   float64\n",
            " 23  EG_Ajclose     1718 non-null   float64\n",
            " 24  EG_volume      1718 non-null   int64  \n",
            " 25  EU_Price       1718 non-null   float64\n",
            " 26  EU_open        1718 non-null   float64\n",
            " 27  EU_high        1718 non-null   float64\n",
            " 28  EU_low         1718 non-null   float64\n",
            " 29  EU_Trend       1718 non-null   int64  \n",
            " 30  OF_Price       1718 non-null   float64\n",
            " 31  OF_Open        1718 non-null   float64\n",
            " 32  OF_High        1718 non-null   float64\n",
            " 33  OF_Low         1718 non-null   float64\n",
            " 34  OF_Volume      1718 non-null   int64  \n",
            " 35  OF_Trend       1718 non-null   int64  \n",
            " 36  OS_Price       1718 non-null   float64\n",
            " 37  OS_Open        1718 non-null   float64\n",
            " 38  OS_High        1718 non-null   float64\n",
            " 39  OS_Low         1718 non-null   float64\n",
            " 40  OS_Trend       1718 non-null   int64  \n",
            " 41  SF_Price       1718 non-null   int64  \n",
            " 42  SF_Open        1718 non-null   int64  \n",
            " 43  SF_High        1718 non-null   int64  \n",
            " 44  SF_Low         1718 non-null   int64  \n",
            " 45  SF_Volume      1718 non-null   int64  \n",
            " 46  SF_Trend       1718 non-null   int64  \n",
            " 47  USB_Price      1718 non-null   float64\n",
            " 48  USB_Open       1718 non-null   float64\n",
            " 49  USB_High       1718 non-null   float64\n",
            " 50  USB_Low        1718 non-null   float64\n",
            " 51  USB_Trend      1718 non-null   int64  \n",
            " 52  PLT_Price      1718 non-null   float64\n",
            " 53  PLT_Open       1718 non-null   float64\n",
            " 54  PLT_High       1718 non-null   float64\n",
            " 55  PLT_Low        1718 non-null   float64\n",
            " 56  PLT_Trend      1718 non-null   int64  \n",
            " 57  PLD_Price      1718 non-null   float64\n",
            " 58  PLD_Open       1718 non-null   float64\n",
            " 59  PLD_High       1718 non-null   float64\n",
            " 60  PLD_Low        1718 non-null   float64\n",
            " 61  PLD_Trend      1718 non-null   int64  \n",
            " 62  RHO_PRICE      1718 non-null   int64  \n",
            " 63  USDI_Price     1718 non-null   float64\n",
            " 64  USDI_Open      1718 non-null   float64\n",
            " 65  USDI_High      1718 non-null   float64\n",
            " 66  USDI_Low       1718 non-null   float64\n",
            " 67  USDI_Volume    1718 non-null   int64  \n",
            " 68  USDI_Trend     1718 non-null   int64  \n",
            " 69  GDX_Open       1718 non-null   float64\n",
            " 70  GDX_High       1718 non-null   float64\n",
            " 71  GDX_Low        1718 non-null   float64\n",
            " 72  GDX_Close      1718 non-null   float64\n",
            " 73  GDX_Adj Close  1718 non-null   float64\n",
            " 74  GDX_Volume     1718 non-null   int64  \n",
            " 75  USO_Open       1718 non-null   float64\n",
            " 76  USO_High       1718 non-null   float64\n",
            " 77  USO_Low        1718 non-null   float64\n",
            " 78  USO_Close      1718 non-null   float64\n",
            " 79  USO_Adj Close  1718 non-null   float64\n",
            " 80  USO_Volume     1718 non-null   int64  \n",
            "dtypes: float64(58), int64(22), object(1)\n",
            "memory usage: 1.1+ MB\n"
          ]
        }
      ]
    },
    {
      "cell_type": "code",
      "source": [
        "dataset.isna().sum()"
      ],
      "metadata": {
        "colab": {
          "base_uri": "https://localhost:8080/"
        },
        "id": "IG8541DrqIWw",
        "outputId": "78846dbe-096f-4625-fca3-2010583a83b3"
      },
      "execution_count": null,
      "outputs": [
        {
          "output_type": "execute_result",
          "data": {
            "text/plain": [
              "Date             0\n",
              "Open             0\n",
              "High             0\n",
              "Low              0\n",
              "Close            0\n",
              "                ..\n",
              "USO_High         0\n",
              "USO_Low          0\n",
              "USO_Close        0\n",
              "USO_Adj Close    0\n",
              "USO_Volume       0\n",
              "Length: 81, dtype: int64"
            ]
          },
          "metadata": {},
          "execution_count": 49
        }
      ]
    },
    {
      "cell_type": "code",
      "source": [
        "# Replacing missing values\n",
        "dataset = dataset.fillna(dataset.mean())"
      ],
      "metadata": {
        "colab": {
          "base_uri": "https://localhost:8080/"
        },
        "id": "Ftkh0WB1qcpi",
        "outputId": "bd753498-469c-455b-8780-fafd15ee2c5b"
      },
      "execution_count": null,
      "outputs": [
        {
          "output_type": "stream",
          "name": "stderr",
          "text": [
            "<ipython-input-50-cae2c4cf796d>:2: FutureWarning: The default value of numeric_only in DataFrame.mean is deprecated. In a future version, it will default to False. In addition, specifying 'numeric_only=None' is deprecated. Select only valid columns or specify the value of numeric_only to silence this warning.\n",
            "  dataset = dataset.fillna(dataset.mean())\n"
          ]
        }
      ]
    },
    {
      "cell_type": "code",
      "source": [
        "dataset"
      ],
      "metadata": {
        "colab": {
          "base_uri": "https://localhost:8080/",
          "height": 634
        },
        "id": "9twuUBL_qkLg",
        "outputId": "0b7df41b-2d6f-4ea4-c7b8-5ae30b6f4a9e"
      },
      "execution_count": null,
      "outputs": [
        {
          "output_type": "execute_result",
          "data": {
            "text/plain": [
              "            Date        Open        High         Low       Close   Adj Close  \\\n",
              "0     2011-12-15  154.740005  154.949997  151.710007  152.330002  152.330002   \n",
              "1     2011-12-16  154.309998  155.369995  153.899994  155.229996  155.229996   \n",
              "2     2011-12-19  155.479996  155.860001  154.360001  154.869995  154.869995   \n",
              "3     2011-12-20  156.820007  157.429993  156.580002  156.979996  156.979996   \n",
              "4     2011-12-21  156.979996  157.529999  156.130005  157.160004  157.160004   \n",
              "...          ...         ...         ...         ...         ...         ...   \n",
              "1713  2018-12-24  119.570000  120.139999  119.570000  120.019997  120.019997   \n",
              "1714  2018-12-26  120.620003  121.000000  119.570000  119.660004  119.660004   \n",
              "1715  2018-12-27  120.570000  120.900002  120.139999  120.570000  120.570000   \n",
              "1716  2018-12-28  120.800003  121.080002  120.720001  121.059998  121.059998   \n",
              "1717  2018-12-31  120.980003  121.260002  120.830002  121.250000  121.250000   \n",
              "\n",
              "        Volume     SP_open     SP_high      SP_low  ...    GDX_Low  GDX_Close  \\\n",
              "0     21521900  123.029999  123.199997  121.989998  ...  51.570000  51.680000   \n",
              "1     18124300  122.230003  122.949997  121.300003  ...  52.040001  52.680000   \n",
              "2     12547200  122.059998  122.320000  120.029999  ...  51.029999  51.169998   \n",
              "3      9136300  122.180000  124.139999  120.370003  ...  52.369999  52.990002   \n",
              "4     11996100  123.930000  124.360001  122.750000  ...  52.419998  52.959999   \n",
              "...        ...         ...         ...         ...  ...        ...        ...   \n",
              "1713   9736400  239.039993  240.839996  234.270004  ...  20.650000  21.090000   \n",
              "1714  14293500  235.970001  246.179993  233.759995  ...  20.530001  20.620001   \n",
              "1715  11874400  242.570007  248.289993  238.960007  ...  20.700001  20.969999   \n",
              "1716   6864700  249.580002  251.399994  246.449997  ...  20.570000  20.600000   \n",
              "1717   8449400  249.559998  250.190002  247.470001  ...  20.559999  21.090000   \n",
              "\n",
              "      GDX_Adj Close  GDX_Volume   USO_Open   USO_High    USO_Low  USO_Close  \\\n",
              "0         48.973877    20605600  36.900002  36.939999  36.049999  36.130001   \n",
              "1         49.921513    16285400  36.180000  36.500000  35.730000  36.270000   \n",
              "2         48.490578    15120200  36.389999  36.450001  35.930000  36.200001   \n",
              "3         50.215282    11644900  37.299999  37.610001  37.220001  37.560001   \n",
              "4         50.186852     8724300  37.669998  38.240002  37.520000  38.110001   \n",
              "...             ...         ...        ...        ...        ...        ...   \n",
              "1713      21.090000    60507000   9.490000   9.520000   9.280000   9.290000   \n",
              "1714      20.620001    76365200   9.250000   9.920000   9.230000   9.900000   \n",
              "1715      20.969999    52393000   9.590000   9.650000   9.370000   9.620000   \n",
              "1716      20.600000    49835000   9.540000   9.650000   9.380000   9.530000   \n",
              "1717      21.090000    53866600   9.630000   9.710000   9.440000   9.660000   \n",
              "\n",
              "      USO_Adj Close  USO_Volume  \n",
              "0         36.130001    12616700  \n",
              "1         36.270000    12578800  \n",
              "2         36.200001     7418200  \n",
              "3         37.560001    10041600  \n",
              "4         38.110001    10728000  \n",
              "...             ...         ...  \n",
              "1713       9.290000    21598200  \n",
              "1714       9.900000    40978800  \n",
              "1715       9.620000    36578700  \n",
              "1716       9.530000    22803400  \n",
              "1717       9.660000    28417400  \n",
              "\n",
              "[1718 rows x 81 columns]"
            ],
            "text/html": [
              "\n",
              "  <div id=\"df-7474359c-853a-4a76-b18b-bf8e491c4845\" class=\"colab-df-container\">\n",
              "    <div>\n",
              "<style scoped>\n",
              "    .dataframe tbody tr th:only-of-type {\n",
              "        vertical-align: middle;\n",
              "    }\n",
              "\n",
              "    .dataframe tbody tr th {\n",
              "        vertical-align: top;\n",
              "    }\n",
              "\n",
              "    .dataframe thead th {\n",
              "        text-align: right;\n",
              "    }\n",
              "</style>\n",
              "<table border=\"1\" class=\"dataframe\">\n",
              "  <thead>\n",
              "    <tr style=\"text-align: right;\">\n",
              "      <th></th>\n",
              "      <th>Date</th>\n",
              "      <th>Open</th>\n",
              "      <th>High</th>\n",
              "      <th>Low</th>\n",
              "      <th>Close</th>\n",
              "      <th>Adj Close</th>\n",
              "      <th>Volume</th>\n",
              "      <th>SP_open</th>\n",
              "      <th>SP_high</th>\n",
              "      <th>SP_low</th>\n",
              "      <th>...</th>\n",
              "      <th>GDX_Low</th>\n",
              "      <th>GDX_Close</th>\n",
              "      <th>GDX_Adj Close</th>\n",
              "      <th>GDX_Volume</th>\n",
              "      <th>USO_Open</th>\n",
              "      <th>USO_High</th>\n",
              "      <th>USO_Low</th>\n",
              "      <th>USO_Close</th>\n",
              "      <th>USO_Adj Close</th>\n",
              "      <th>USO_Volume</th>\n",
              "    </tr>\n",
              "  </thead>\n",
              "  <tbody>\n",
              "    <tr>\n",
              "      <th>0</th>\n",
              "      <td>2011-12-15</td>\n",
              "      <td>154.740005</td>\n",
              "      <td>154.949997</td>\n",
              "      <td>151.710007</td>\n",
              "      <td>152.330002</td>\n",
              "      <td>152.330002</td>\n",
              "      <td>21521900</td>\n",
              "      <td>123.029999</td>\n",
              "      <td>123.199997</td>\n",
              "      <td>121.989998</td>\n",
              "      <td>...</td>\n",
              "      <td>51.570000</td>\n",
              "      <td>51.680000</td>\n",
              "      <td>48.973877</td>\n",
              "      <td>20605600</td>\n",
              "      <td>36.900002</td>\n",
              "      <td>36.939999</td>\n",
              "      <td>36.049999</td>\n",
              "      <td>36.130001</td>\n",
              "      <td>36.130001</td>\n",
              "      <td>12616700</td>\n",
              "    </tr>\n",
              "    <tr>\n",
              "      <th>1</th>\n",
              "      <td>2011-12-16</td>\n",
              "      <td>154.309998</td>\n",
              "      <td>155.369995</td>\n",
              "      <td>153.899994</td>\n",
              "      <td>155.229996</td>\n",
              "      <td>155.229996</td>\n",
              "      <td>18124300</td>\n",
              "      <td>122.230003</td>\n",
              "      <td>122.949997</td>\n",
              "      <td>121.300003</td>\n",
              "      <td>...</td>\n",
              "      <td>52.040001</td>\n",
              "      <td>52.680000</td>\n",
              "      <td>49.921513</td>\n",
              "      <td>16285400</td>\n",
              "      <td>36.180000</td>\n",
              "      <td>36.500000</td>\n",
              "      <td>35.730000</td>\n",
              "      <td>36.270000</td>\n",
              "      <td>36.270000</td>\n",
              "      <td>12578800</td>\n",
              "    </tr>\n",
              "    <tr>\n",
              "      <th>2</th>\n",
              "      <td>2011-12-19</td>\n",
              "      <td>155.479996</td>\n",
              "      <td>155.860001</td>\n",
              "      <td>154.360001</td>\n",
              "      <td>154.869995</td>\n",
              "      <td>154.869995</td>\n",
              "      <td>12547200</td>\n",
              "      <td>122.059998</td>\n",
              "      <td>122.320000</td>\n",
              "      <td>120.029999</td>\n",
              "      <td>...</td>\n",
              "      <td>51.029999</td>\n",
              "      <td>51.169998</td>\n",
              "      <td>48.490578</td>\n",
              "      <td>15120200</td>\n",
              "      <td>36.389999</td>\n",
              "      <td>36.450001</td>\n",
              "      <td>35.930000</td>\n",
              "      <td>36.200001</td>\n",
              "      <td>36.200001</td>\n",
              "      <td>7418200</td>\n",
              "    </tr>\n",
              "    <tr>\n",
              "      <th>3</th>\n",
              "      <td>2011-12-20</td>\n",
              "      <td>156.820007</td>\n",
              "      <td>157.429993</td>\n",
              "      <td>156.580002</td>\n",
              "      <td>156.979996</td>\n",
              "      <td>156.979996</td>\n",
              "      <td>9136300</td>\n",
              "      <td>122.180000</td>\n",
              "      <td>124.139999</td>\n",
              "      <td>120.370003</td>\n",
              "      <td>...</td>\n",
              "      <td>52.369999</td>\n",
              "      <td>52.990002</td>\n",
              "      <td>50.215282</td>\n",
              "      <td>11644900</td>\n",
              "      <td>37.299999</td>\n",
              "      <td>37.610001</td>\n",
              "      <td>37.220001</td>\n",
              "      <td>37.560001</td>\n",
              "      <td>37.560001</td>\n",
              "      <td>10041600</td>\n",
              "    </tr>\n",
              "    <tr>\n",
              "      <th>4</th>\n",
              "      <td>2011-12-21</td>\n",
              "      <td>156.979996</td>\n",
              "      <td>157.529999</td>\n",
              "      <td>156.130005</td>\n",
              "      <td>157.160004</td>\n",
              "      <td>157.160004</td>\n",
              "      <td>11996100</td>\n",
              "      <td>123.930000</td>\n",
              "      <td>124.360001</td>\n",
              "      <td>122.750000</td>\n",
              "      <td>...</td>\n",
              "      <td>52.419998</td>\n",
              "      <td>52.959999</td>\n",
              "      <td>50.186852</td>\n",
              "      <td>8724300</td>\n",
              "      <td>37.669998</td>\n",
              "      <td>38.240002</td>\n",
              "      <td>37.520000</td>\n",
              "      <td>38.110001</td>\n",
              "      <td>38.110001</td>\n",
              "      <td>10728000</td>\n",
              "    </tr>\n",
              "    <tr>\n",
              "      <th>...</th>\n",
              "      <td>...</td>\n",
              "      <td>...</td>\n",
              "      <td>...</td>\n",
              "      <td>...</td>\n",
              "      <td>...</td>\n",
              "      <td>...</td>\n",
              "      <td>...</td>\n",
              "      <td>...</td>\n",
              "      <td>...</td>\n",
              "      <td>...</td>\n",
              "      <td>...</td>\n",
              "      <td>...</td>\n",
              "      <td>...</td>\n",
              "      <td>...</td>\n",
              "      <td>...</td>\n",
              "      <td>...</td>\n",
              "      <td>...</td>\n",
              "      <td>...</td>\n",
              "      <td>...</td>\n",
              "      <td>...</td>\n",
              "      <td>...</td>\n",
              "    </tr>\n",
              "    <tr>\n",
              "      <th>1713</th>\n",
              "      <td>2018-12-24</td>\n",
              "      <td>119.570000</td>\n",
              "      <td>120.139999</td>\n",
              "      <td>119.570000</td>\n",
              "      <td>120.019997</td>\n",
              "      <td>120.019997</td>\n",
              "      <td>9736400</td>\n",
              "      <td>239.039993</td>\n",
              "      <td>240.839996</td>\n",
              "      <td>234.270004</td>\n",
              "      <td>...</td>\n",
              "      <td>20.650000</td>\n",
              "      <td>21.090000</td>\n",
              "      <td>21.090000</td>\n",
              "      <td>60507000</td>\n",
              "      <td>9.490000</td>\n",
              "      <td>9.520000</td>\n",
              "      <td>9.280000</td>\n",
              "      <td>9.290000</td>\n",
              "      <td>9.290000</td>\n",
              "      <td>21598200</td>\n",
              "    </tr>\n",
              "    <tr>\n",
              "      <th>1714</th>\n",
              "      <td>2018-12-26</td>\n",
              "      <td>120.620003</td>\n",
              "      <td>121.000000</td>\n",
              "      <td>119.570000</td>\n",
              "      <td>119.660004</td>\n",
              "      <td>119.660004</td>\n",
              "      <td>14293500</td>\n",
              "      <td>235.970001</td>\n",
              "      <td>246.179993</td>\n",
              "      <td>233.759995</td>\n",
              "      <td>...</td>\n",
              "      <td>20.530001</td>\n",
              "      <td>20.620001</td>\n",
              "      <td>20.620001</td>\n",
              "      <td>76365200</td>\n",
              "      <td>9.250000</td>\n",
              "      <td>9.920000</td>\n",
              "      <td>9.230000</td>\n",
              "      <td>9.900000</td>\n",
              "      <td>9.900000</td>\n",
              "      <td>40978800</td>\n",
              "    </tr>\n",
              "    <tr>\n",
              "      <th>1715</th>\n",
              "      <td>2018-12-27</td>\n",
              "      <td>120.570000</td>\n",
              "      <td>120.900002</td>\n",
              "      <td>120.139999</td>\n",
              "      <td>120.570000</td>\n",
              "      <td>120.570000</td>\n",
              "      <td>11874400</td>\n",
              "      <td>242.570007</td>\n",
              "      <td>248.289993</td>\n",
              "      <td>238.960007</td>\n",
              "      <td>...</td>\n",
              "      <td>20.700001</td>\n",
              "      <td>20.969999</td>\n",
              "      <td>20.969999</td>\n",
              "      <td>52393000</td>\n",
              "      <td>9.590000</td>\n",
              "      <td>9.650000</td>\n",
              "      <td>9.370000</td>\n",
              "      <td>9.620000</td>\n",
              "      <td>9.620000</td>\n",
              "      <td>36578700</td>\n",
              "    </tr>\n",
              "    <tr>\n",
              "      <th>1716</th>\n",
              "      <td>2018-12-28</td>\n",
              "      <td>120.800003</td>\n",
              "      <td>121.080002</td>\n",
              "      <td>120.720001</td>\n",
              "      <td>121.059998</td>\n",
              "      <td>121.059998</td>\n",
              "      <td>6864700</td>\n",
              "      <td>249.580002</td>\n",
              "      <td>251.399994</td>\n",
              "      <td>246.449997</td>\n",
              "      <td>...</td>\n",
              "      <td>20.570000</td>\n",
              "      <td>20.600000</td>\n",
              "      <td>20.600000</td>\n",
              "      <td>49835000</td>\n",
              "      <td>9.540000</td>\n",
              "      <td>9.650000</td>\n",
              "      <td>9.380000</td>\n",
              "      <td>9.530000</td>\n",
              "      <td>9.530000</td>\n",
              "      <td>22803400</td>\n",
              "    </tr>\n",
              "    <tr>\n",
              "      <th>1717</th>\n",
              "      <td>2018-12-31</td>\n",
              "      <td>120.980003</td>\n",
              "      <td>121.260002</td>\n",
              "      <td>120.830002</td>\n",
              "      <td>121.250000</td>\n",
              "      <td>121.250000</td>\n",
              "      <td>8449400</td>\n",
              "      <td>249.559998</td>\n",
              "      <td>250.190002</td>\n",
              "      <td>247.470001</td>\n",
              "      <td>...</td>\n",
              "      <td>20.559999</td>\n",
              "      <td>21.090000</td>\n",
              "      <td>21.090000</td>\n",
              "      <td>53866600</td>\n",
              "      <td>9.630000</td>\n",
              "      <td>9.710000</td>\n",
              "      <td>9.440000</td>\n",
              "      <td>9.660000</td>\n",
              "      <td>9.660000</td>\n",
              "      <td>28417400</td>\n",
              "    </tr>\n",
              "  </tbody>\n",
              "</table>\n",
              "<p>1718 rows × 81 columns</p>\n",
              "</div>\n",
              "    <div class=\"colab-df-buttons\">\n",
              "\n",
              "  <div class=\"colab-df-container\">\n",
              "    <button class=\"colab-df-convert\" onclick=\"convertToInteractive('df-7474359c-853a-4a76-b18b-bf8e491c4845')\"\n",
              "            title=\"Convert this dataframe to an interactive table.\"\n",
              "            style=\"display:none;\">\n",
              "\n",
              "  <svg xmlns=\"http://www.w3.org/2000/svg\" height=\"24px\" viewBox=\"0 -960 960 960\">\n",
              "    <path d=\"M120-120v-720h720v720H120Zm60-500h600v-160H180v160Zm220 220h160v-160H400v160Zm0 220h160v-160H400v160ZM180-400h160v-160H180v160Zm440 0h160v-160H620v160ZM180-180h160v-160H180v160Zm440 0h160v-160H620v160Z\"/>\n",
              "  </svg>\n",
              "    </button>\n",
              "\n",
              "  <style>\n",
              "    .colab-df-container {\n",
              "      display:flex;\n",
              "      gap: 12px;\n",
              "    }\n",
              "\n",
              "    .colab-df-convert {\n",
              "      background-color: #E8F0FE;\n",
              "      border: none;\n",
              "      border-radius: 50%;\n",
              "      cursor: pointer;\n",
              "      display: none;\n",
              "      fill: #1967D2;\n",
              "      height: 32px;\n",
              "      padding: 0 0 0 0;\n",
              "      width: 32px;\n",
              "    }\n",
              "\n",
              "    .colab-df-convert:hover {\n",
              "      background-color: #E2EBFA;\n",
              "      box-shadow: 0px 1px 2px rgba(60, 64, 67, 0.3), 0px 1px 3px 1px rgba(60, 64, 67, 0.15);\n",
              "      fill: #174EA6;\n",
              "    }\n",
              "\n",
              "    .colab-df-buttons div {\n",
              "      margin-bottom: 4px;\n",
              "    }\n",
              "\n",
              "    [theme=dark] .colab-df-convert {\n",
              "      background-color: #3B4455;\n",
              "      fill: #D2E3FC;\n",
              "    }\n",
              "\n",
              "    [theme=dark] .colab-df-convert:hover {\n",
              "      background-color: #434B5C;\n",
              "      box-shadow: 0px 1px 3px 1px rgba(0, 0, 0, 0.15);\n",
              "      filter: drop-shadow(0px 1px 2px rgba(0, 0, 0, 0.3));\n",
              "      fill: #FFFFFF;\n",
              "    }\n",
              "  </style>\n",
              "\n",
              "    <script>\n",
              "      const buttonEl =\n",
              "        document.querySelector('#df-7474359c-853a-4a76-b18b-bf8e491c4845 button.colab-df-convert');\n",
              "      buttonEl.style.display =\n",
              "        google.colab.kernel.accessAllowed ? 'block' : 'none';\n",
              "\n",
              "      async function convertToInteractive(key) {\n",
              "        const element = document.querySelector('#df-7474359c-853a-4a76-b18b-bf8e491c4845');\n",
              "        const dataTable =\n",
              "          await google.colab.kernel.invokeFunction('convertToInteractive',\n",
              "                                                    [key], {});\n",
              "        if (!dataTable) return;\n",
              "\n",
              "        const docLinkHtml = 'Like what you see? Visit the ' +\n",
              "          '<a target=\"_blank\" href=https://colab.research.google.com/notebooks/data_table.ipynb>data table notebook</a>'\n",
              "          + ' to learn more about interactive tables.';\n",
              "        element.innerHTML = '';\n",
              "        dataTable['output_type'] = 'display_data';\n",
              "        await google.colab.output.renderOutput(dataTable, element);\n",
              "        const docLink = document.createElement('div');\n",
              "        docLink.innerHTML = docLinkHtml;\n",
              "        element.appendChild(docLink);\n",
              "      }\n",
              "    </script>\n",
              "  </div>\n",
              "\n",
              "\n",
              "<div id=\"df-dc3ed0d7-7583-45df-ab51-f7f822a9795a\">\n",
              "  <button class=\"colab-df-quickchart\" onclick=\"quickchart('df-dc3ed0d7-7583-45df-ab51-f7f822a9795a')\"\n",
              "            title=\"Suggest charts\"\n",
              "            style=\"display:none;\">\n",
              "\n",
              "<svg xmlns=\"http://www.w3.org/2000/svg\" height=\"24px\"viewBox=\"0 0 24 24\"\n",
              "     width=\"24px\">\n",
              "    <g>\n",
              "        <path d=\"M19 3H5c-1.1 0-2 .9-2 2v14c0 1.1.9 2 2 2h14c1.1 0 2-.9 2-2V5c0-1.1-.9-2-2-2zM9 17H7v-7h2v7zm4 0h-2V7h2v10zm4 0h-2v-4h2v4z\"/>\n",
              "    </g>\n",
              "</svg>\n",
              "  </button>\n",
              "\n",
              "<style>\n",
              "  .colab-df-quickchart {\n",
              "      --bg-color: #E8F0FE;\n",
              "      --fill-color: #1967D2;\n",
              "      --hover-bg-color: #E2EBFA;\n",
              "      --hover-fill-color: #174EA6;\n",
              "      --disabled-fill-color: #AAA;\n",
              "      --disabled-bg-color: #DDD;\n",
              "  }\n",
              "\n",
              "  [theme=dark] .colab-df-quickchart {\n",
              "      --bg-color: #3B4455;\n",
              "      --fill-color: #D2E3FC;\n",
              "      --hover-bg-color: #434B5C;\n",
              "      --hover-fill-color: #FFFFFF;\n",
              "      --disabled-bg-color: #3B4455;\n",
              "      --disabled-fill-color: #666;\n",
              "  }\n",
              "\n",
              "  .colab-df-quickchart {\n",
              "    background-color: var(--bg-color);\n",
              "    border: none;\n",
              "    border-radius: 50%;\n",
              "    cursor: pointer;\n",
              "    display: none;\n",
              "    fill: var(--fill-color);\n",
              "    height: 32px;\n",
              "    padding: 0;\n",
              "    width: 32px;\n",
              "  }\n",
              "\n",
              "  .colab-df-quickchart:hover {\n",
              "    background-color: var(--hover-bg-color);\n",
              "    box-shadow: 0 1px 2px rgba(60, 64, 67, 0.3), 0 1px 3px 1px rgba(60, 64, 67, 0.15);\n",
              "    fill: var(--button-hover-fill-color);\n",
              "  }\n",
              "\n",
              "  .colab-df-quickchart-complete:disabled,\n",
              "  .colab-df-quickchart-complete:disabled:hover {\n",
              "    background-color: var(--disabled-bg-color);\n",
              "    fill: var(--disabled-fill-color);\n",
              "    box-shadow: none;\n",
              "  }\n",
              "\n",
              "  .colab-df-spinner {\n",
              "    border: 2px solid var(--fill-color);\n",
              "    border-color: transparent;\n",
              "    border-bottom-color: var(--fill-color);\n",
              "    animation:\n",
              "      spin 1s steps(1) infinite;\n",
              "  }\n",
              "\n",
              "  @keyframes spin {\n",
              "    0% {\n",
              "      border-color: transparent;\n",
              "      border-bottom-color: var(--fill-color);\n",
              "      border-left-color: var(--fill-color);\n",
              "    }\n",
              "    20% {\n",
              "      border-color: transparent;\n",
              "      border-left-color: var(--fill-color);\n",
              "      border-top-color: var(--fill-color);\n",
              "    }\n",
              "    30% {\n",
              "      border-color: transparent;\n",
              "      border-left-color: var(--fill-color);\n",
              "      border-top-color: var(--fill-color);\n",
              "      border-right-color: var(--fill-color);\n",
              "    }\n",
              "    40% {\n",
              "      border-color: transparent;\n",
              "      border-right-color: var(--fill-color);\n",
              "      border-top-color: var(--fill-color);\n",
              "    }\n",
              "    60% {\n",
              "      border-color: transparent;\n",
              "      border-right-color: var(--fill-color);\n",
              "    }\n",
              "    80% {\n",
              "      border-color: transparent;\n",
              "      border-right-color: var(--fill-color);\n",
              "      border-bottom-color: var(--fill-color);\n",
              "    }\n",
              "    90% {\n",
              "      border-color: transparent;\n",
              "      border-bottom-color: var(--fill-color);\n",
              "    }\n",
              "  }\n",
              "</style>\n",
              "\n",
              "  <script>\n",
              "    async function quickchart(key) {\n",
              "      const quickchartButtonEl =\n",
              "        document.querySelector('#' + key + ' button');\n",
              "      quickchartButtonEl.disabled = true;  // To prevent multiple clicks.\n",
              "      quickchartButtonEl.classList.add('colab-df-spinner');\n",
              "      try {\n",
              "        const charts = await google.colab.kernel.invokeFunction(\n",
              "            'suggestCharts', [key], {});\n",
              "      } catch (error) {\n",
              "        console.error('Error during call to suggestCharts:', error);\n",
              "      }\n",
              "      quickchartButtonEl.classList.remove('colab-df-spinner');\n",
              "      quickchartButtonEl.classList.add('colab-df-quickchart-complete');\n",
              "    }\n",
              "    (() => {\n",
              "      let quickchartButtonEl =\n",
              "        document.querySelector('#df-dc3ed0d7-7583-45df-ab51-f7f822a9795a button');\n",
              "      quickchartButtonEl.style.display =\n",
              "        google.colab.kernel.accessAllowed ? 'block' : 'none';\n",
              "    })();\n",
              "  </script>\n",
              "</div>\n",
              "\n",
              "  <div id=\"id_95dc4ed4-c61e-465d-8578-d452ed08e117\">\n",
              "    <style>\n",
              "      .colab-df-generate {\n",
              "        background-color: #E8F0FE;\n",
              "        border: none;\n",
              "        border-radius: 50%;\n",
              "        cursor: pointer;\n",
              "        display: none;\n",
              "        fill: #1967D2;\n",
              "        height: 32px;\n",
              "        padding: 0 0 0 0;\n",
              "        width: 32px;\n",
              "      }\n",
              "\n",
              "      .colab-df-generate:hover {\n",
              "        background-color: #E2EBFA;\n",
              "        box-shadow: 0px 1px 2px rgba(60, 64, 67, 0.3), 0px 1px 3px 1px rgba(60, 64, 67, 0.15);\n",
              "        fill: #174EA6;\n",
              "      }\n",
              "\n",
              "      [theme=dark] .colab-df-generate {\n",
              "        background-color: #3B4455;\n",
              "        fill: #D2E3FC;\n",
              "      }\n",
              "\n",
              "      [theme=dark] .colab-df-generate:hover {\n",
              "        background-color: #434B5C;\n",
              "        box-shadow: 0px 1px 3px 1px rgba(0, 0, 0, 0.15);\n",
              "        filter: drop-shadow(0px 1px 2px rgba(0, 0, 0, 0.3));\n",
              "        fill: #FFFFFF;\n",
              "      }\n",
              "    </style>\n",
              "    <button class=\"colab-df-generate\" onclick=\"generateWithVariable('dataset')\"\n",
              "            title=\"Generate code using this dataframe.\"\n",
              "            style=\"display:none;\">\n",
              "\n",
              "  <svg xmlns=\"http://www.w3.org/2000/svg\" height=\"24px\"viewBox=\"0 0 24 24\"\n",
              "       width=\"24px\">\n",
              "    <path d=\"M7,19H8.4L18.45,9,17,7.55,7,17.6ZM5,21V16.75L18.45,3.32a2,2,0,0,1,2.83,0l1.4,1.43a1.91,1.91,0,0,1,.58,1.4,1.91,1.91,0,0,1-.58,1.4L9.25,21ZM18.45,9,17,7.55Zm-12,3A5.31,5.31,0,0,0,4.9,8.1,5.31,5.31,0,0,0,1,6.5,5.31,5.31,0,0,0,4.9,4.9,5.31,5.31,0,0,0,6.5,1,5.31,5.31,0,0,0,8.1,4.9,5.31,5.31,0,0,0,12,6.5,5.46,5.46,0,0,0,6.5,12Z\"/>\n",
              "  </svg>\n",
              "    </button>\n",
              "    <script>\n",
              "      (() => {\n",
              "      const buttonEl =\n",
              "        document.querySelector('#id_95dc4ed4-c61e-465d-8578-d452ed08e117 button.colab-df-generate');\n",
              "      buttonEl.style.display =\n",
              "        google.colab.kernel.accessAllowed ? 'block' : 'none';\n",
              "\n",
              "      buttonEl.onclick = () => {\n",
              "        google.colab.notebook.generateWithVariable('dataset');\n",
              "      }\n",
              "      })();\n",
              "    </script>\n",
              "  </div>\n",
              "\n",
              "    </div>\n",
              "  </div>\n"
            ]
          },
          "metadata": {},
          "execution_count": 51
        }
      ]
    },
    {
      "cell_type": "markdown",
      "source": [
        "# Univariate Regression"
      ],
      "metadata": {
        "id": "t9MaUqIlq_pM"
      }
    },
    {
      "cell_type": "code",
      "source": [
        "x_data = dataset['High']\n",
        "y_data = dataset['Close']"
      ],
      "metadata": {
        "id": "EH9N-B5pqo9A"
      },
      "execution_count": null,
      "outputs": []
    },
    {
      "cell_type": "code",
      "source": [
        "# Creating each single feature as a vector\n",
        "x_data = np.array(x_data).reshape((-1,1))\n",
        "print(x_data)"
      ],
      "metadata": {
        "colab": {
          "base_uri": "https://localhost:8080/"
        },
        "id": "QDCRJLlAsvzV",
        "outputId": "ca008f26-55e4-4979-9f74-760edd27968b"
      },
      "execution_count": null,
      "outputs": [
        {
          "output_type": "stream",
          "name": "stdout",
          "text": [
            "[[154.949997]\n",
            " [155.369995]\n",
            " [155.860001]\n",
            " ...\n",
            " [120.900002]\n",
            " [121.080002]\n",
            " [121.260002]]\n"
          ]
        }
      ]
    },
    {
      "cell_type": "code",
      "source": [
        "from sklearn.model_selection import train_test_split\n",
        "\n",
        "x_train, x_test, y_train, y_test = train_test_split(x_data, y_data, test_size=0.15, random_state=1)\n",
        "\n",
        "\n",
        "print(\"shape of training samples:\",x_train.shape)\n",
        "print(\"shape of test samples :\", x_test.shape)\n",
        "print(\"shape of train labels :\", y_train.shape)\n",
        "print(\"shape of test labels:\",y_test.shape)"
      ],
      "metadata": {
        "colab": {
          "base_uri": "https://localhost:8080/"
        },
        "id": "-Urcj9Q3s1MT",
        "outputId": "d2a09918-72ac-4872-8221-ad0a82446215"
      },
      "execution_count": null,
      "outputs": [
        {
          "output_type": "stream",
          "name": "stdout",
          "text": [
            "shape of training samples: (1460, 1)\n",
            "shape of test samples : (258, 1)\n",
            "shape of train labels : (1460,)\n",
            "shape of test labels: (258,)\n"
          ]
        }
      ]
    },
    {
      "cell_type": "code",
      "source": [
        "import matplotlib.pyplot as plt\n",
        "from sklearn.linear_model import LinearRegression"
      ],
      "metadata": {
        "id": "RgT2WBp5s73c"
      },
      "execution_count": null,
      "outputs": []
    },
    {
      "cell_type": "code",
      "source": [
        "from numpy.ma.core import nonzero\n",
        "lre=LinearRegression()\n",
        "\n",
        "lre.fit(x_train,y_train)"
      ],
      "metadata": {
        "colab": {
          "base_uri": "https://localhost:8080/",
          "height": 74
        },
        "id": "pZQ7VGiktCkO",
        "outputId": "56ea4559-fd0d-4e6e-d017-780cf30e6db6"
      },
      "execution_count": null,
      "outputs": [
        {
          "output_type": "execute_result",
          "data": {
            "text/plain": [
              "LinearRegression()"
            ],
            "text/html": [
              "<style>#sk-container-id-3 {color: black;background-color: white;}#sk-container-id-3 pre{padding: 0;}#sk-container-id-3 div.sk-toggleable {background-color: white;}#sk-container-id-3 label.sk-toggleable__label {cursor: pointer;display: block;width: 100%;margin-bottom: 0;padding: 0.3em;box-sizing: border-box;text-align: center;}#sk-container-id-3 label.sk-toggleable__label-arrow:before {content: \"▸\";float: left;margin-right: 0.25em;color: #696969;}#sk-container-id-3 label.sk-toggleable__label-arrow:hover:before {color: black;}#sk-container-id-3 div.sk-estimator:hover label.sk-toggleable__label-arrow:before {color: black;}#sk-container-id-3 div.sk-toggleable__content {max-height: 0;max-width: 0;overflow: hidden;text-align: left;background-color: #f0f8ff;}#sk-container-id-3 div.sk-toggleable__content pre {margin: 0.2em;color: black;border-radius: 0.25em;background-color: #f0f8ff;}#sk-container-id-3 input.sk-toggleable__control:checked~div.sk-toggleable__content {max-height: 200px;max-width: 100%;overflow: auto;}#sk-container-id-3 input.sk-toggleable__control:checked~label.sk-toggleable__label-arrow:before {content: \"▾\";}#sk-container-id-3 div.sk-estimator input.sk-toggleable__control:checked~label.sk-toggleable__label {background-color: #d4ebff;}#sk-container-id-3 div.sk-label input.sk-toggleable__control:checked~label.sk-toggleable__label {background-color: #d4ebff;}#sk-container-id-3 input.sk-hidden--visually {border: 0;clip: rect(1px 1px 1px 1px);clip: rect(1px, 1px, 1px, 1px);height: 1px;margin: -1px;overflow: hidden;padding: 0;position: absolute;width: 1px;}#sk-container-id-3 div.sk-estimator {font-family: monospace;background-color: #f0f8ff;border: 1px dotted black;border-radius: 0.25em;box-sizing: border-box;margin-bottom: 0.5em;}#sk-container-id-3 div.sk-estimator:hover {background-color: #d4ebff;}#sk-container-id-3 div.sk-parallel-item::after {content: \"\";width: 100%;border-bottom: 1px solid gray;flex-grow: 1;}#sk-container-id-3 div.sk-label:hover label.sk-toggleable__label {background-color: #d4ebff;}#sk-container-id-3 div.sk-serial::before {content: \"\";position: absolute;border-left: 1px solid gray;box-sizing: border-box;top: 0;bottom: 0;left: 50%;z-index: 0;}#sk-container-id-3 div.sk-serial {display: flex;flex-direction: column;align-items: center;background-color: white;padding-right: 0.2em;padding-left: 0.2em;position: relative;}#sk-container-id-3 div.sk-item {position: relative;z-index: 1;}#sk-container-id-3 div.sk-parallel {display: flex;align-items: stretch;justify-content: center;background-color: white;position: relative;}#sk-container-id-3 div.sk-item::before, #sk-container-id-3 div.sk-parallel-item::before {content: \"\";position: absolute;border-left: 1px solid gray;box-sizing: border-box;top: 0;bottom: 0;left: 50%;z-index: -1;}#sk-container-id-3 div.sk-parallel-item {display: flex;flex-direction: column;z-index: 1;position: relative;background-color: white;}#sk-container-id-3 div.sk-parallel-item:first-child::after {align-self: flex-end;width: 50%;}#sk-container-id-3 div.sk-parallel-item:last-child::after {align-self: flex-start;width: 50%;}#sk-container-id-3 div.sk-parallel-item:only-child::after {width: 0;}#sk-container-id-3 div.sk-dashed-wrapped {border: 1px dashed gray;margin: 0 0.4em 0.5em 0.4em;box-sizing: border-box;padding-bottom: 0.4em;background-color: white;}#sk-container-id-3 div.sk-label label {font-family: monospace;font-weight: bold;display: inline-block;line-height: 1.2em;}#sk-container-id-3 div.sk-label-container {text-align: center;}#sk-container-id-3 div.sk-container {/* jupyter's `normalize.less` sets `[hidden] { display: none; }` but bootstrap.min.css set `[hidden] { display: none !important; }` so we also need the `!important` here to be able to override the default hidden behavior on the sphinx rendered scikit-learn.org. See: https://github.com/scikit-learn/scikit-learn/issues/21755 */display: inline-block !important;position: relative;}#sk-container-id-3 div.sk-text-repr-fallback {display: none;}</style><div id=\"sk-container-id-3\" class=\"sk-top-container\"><div class=\"sk-text-repr-fallback\"><pre>LinearRegression()</pre><b>In a Jupyter environment, please rerun this cell to show the HTML representation or trust the notebook. <br />On GitHub, the HTML representation is unable to render, please try loading this page with nbviewer.org.</b></div><div class=\"sk-container\" hidden><div class=\"sk-item\"><div class=\"sk-estimator sk-toggleable\"><input class=\"sk-toggleable__control sk-hidden--visually\" id=\"sk-estimator-id-3\" type=\"checkbox\" checked><label for=\"sk-estimator-id-3\" class=\"sk-toggleable__label sk-toggleable__label-arrow\">LinearRegression</label><div class=\"sk-toggleable__content\"><pre>LinearRegression()</pre></div></div></div></div></div>"
            ]
          },
          "metadata": {},
          "execution_count": 56
        }
      ]
    },
    {
      "cell_type": "code",
      "source": [
        "print(\"Intercept is \",lre.intercept_,\"\\n\",\"Coef is\",lre.coef_)"
      ],
      "metadata": {
        "colab": {
          "base_uri": "https://localhost:8080/"
        },
        "id": "KiTm5mSttGoe",
        "outputId": "8bc34fa3-e226-4176-9f0e-0a4fb26ed06e"
      },
      "execution_count": null,
      "outputs": [
        {
          "output_type": "stream",
          "name": "stdout",
          "text": [
            "Intercept is  0.23686843509443634 \n",
            " Coef is [0.99403915]\n"
          ]
        }
      ]
    },
    {
      "cell_type": "code",
      "source": [
        "r_squared = lre.score(x_test, y_test)\n",
        "print(\"R Square value is \",r_squared)"
      ],
      "metadata": {
        "colab": {
          "base_uri": "https://localhost:8080/"
        },
        "id": "8aU3_iHBtSli",
        "outputId": "6c4333ff-5464-4da0-d952-60af0adbd0d4"
      },
      "execution_count": null,
      "outputs": [
        {
          "output_type": "stream",
          "name": "stdout",
          "text": [
            "R Square value is  0.9989365718042149\n"
          ]
        }
      ]
    },
    {
      "cell_type": "code",
      "source": [
        "y_pred = lre.predict(x_test)\n",
        "print(f\"predicted response:\\n{y_pred}\")"
      ],
      "metadata": {
        "colab": {
          "base_uri": "https://localhost:8080/"
        },
        "id": "mRn54ZrUtZt1",
        "outputId": "356ff5d0-2b1b-4196-c5af-da7d4b566f4d"
      },
      "execution_count": null,
      "outputs": [
        {
          "output_type": "stream",
          "name": "stdout",
          "text": [
            "predicted response:\n",
            "[115.58517239 125.33669347 120.09811113 170.55553242 121.45993979\n",
            " 116.21141408 117.44402859 165.40641757 118.6070524  151.17176899\n",
            " 113.43804385 126.10210859 115.76409944 128.72636399 118.57723222\n",
            " 120.29691598 115.88337917 119.95894565 117.15575624 113.239239\n",
            " 152.94115768 173.19968053 117.46390539 153.87555747 110.41616384\n",
            " 124.03450517 124.75021435 157.43421862 127.51363424 107.15571742\n",
            " 115.24719511 127.61304412 118.48776472 157.9709938  108.96486768\n",
            " 121.28101275 120.35655534 119.31281921 124.04444755 123.20945069\n",
            " 114.93904496 127.90130951 172.12611626 114.69053517 162.30500449\n",
            " 114.51160812 105.92311086 161.25132597 116.04242941 136.2114768\n",
            " 119.84960134 122.05636925 127.51363424 128.01065382 124.82973152\n",
            " 119.26311427 127.54346933 119.96888107 127.67268448 117.1060513\n",
            " 126.30091344 113.74620096 152.38449874 124.79991233 155.13799116\n",
            " 115.89332155 120.80387793 126.33073262 126.07228045 119.81978116\n",
            " 116.48974404 112.82174455 154.00478653 123.45796047 163.47797864\n",
            " 119.25317884 106.25114577 154.29305192 119.38240195 125.82377067\n",
            " 123.88539731 115.17761237 110.39628704 117.03646856 113.82571912\n",
            " 169.27322887 125.08818368 123.43808267 116.8873607  117.13587048\n",
            " 159.90938207 150.7741593  125.31681667 101.68850209 105.1775815\n",
            " 107.63285919 114.51160812 161.24139055 110.85354405 124.55140254\n",
            " 159.26324767 121.1020847  156.37060468 161.151931   121.22137239\n",
            " 120.99274736 107.53345627 170.90345208 135.97291735 167.17580527\n",
            " 118.52752728 117.41420045 116.93706663 160.23741697 107.90124678\n",
            " 162.07638046 155.19763053 123.58718258 115.04839026 118.41818198\n",
            " 122.42415876 110.55533628 125.99276329 114.20345897 126.12198539\n",
            " 127.39435451 141.8476927  123.19950831 153.73639199 121.58916985\n",
            " 158.99486804 121.98678651 126.00269871 126.4698981  152.06641317\n",
            " 117.50366795 119.60109155 121.8774422  118.77603707 153.57734274\n",
            " 126.29097106 125.43609639 122.31481446 120.15775049 113.925129\n",
            " 126.50966066 124.03450517 126.42020012 126.54942322 122.54344644\n",
            " 113.71638177 158.92527734 118.10009045 120.90327986 115.95296986\n",
            " 130.8933763  153.4878822  153.91532699 118.36847704 118.92514493\n",
            " 118.69651195 113.45792961 115.14779218 133.09019487 121.21143001\n",
            " 126.07228045 113.38834687 116.14183133 156.72844486 126.11204301\n",
            " 108.25910088 118.37841942 118.07027027 154.49185677 156.16185049\n",
            " 109.63087987 113.54738915 114.42214858 132.59317529 104.06425467\n",
            " 119.02454686 117.16569067 168.22948478 128.01065382 168.95512938\n",
            " 125.82377067 105.11794114 126.98680244 125.92318055 115.85355998\n",
            " 128.13988387 119.31281921 120.98280498 122.8515956  122.03648449\n",
            " 154.26323174 125.52556389 119.64085411 135.47589777 121.75815452\n",
            " 115.33666261 114.91916815 156.7383942  128.86552848 119.14383454\n",
            " 114.3028609  161.48990034 128.93511818 171.3805869  118.3883628\n",
            " 126.64882515 169.40244402 119.42216451 107.74220449 113.99471075\n",
            " 115.87344474 124.73032959 116.8873607  121.37048025 128.3287543\n",
            " 124.14385047 166.87759054 123.13986794 117.88139985 121.22137239\n",
            " 122.23529629 118.23925494 117.48378319 119.35258177 163.22946885\n",
            " 124.86949408 118.22931256 125.62496582 121.94702395 124.63092667\n",
            " 122.84165322 126.78799063 124.36254008 119.68061667 163.65689873\n",
            " 120.54542576 105.09805638 167.16585593 123.96492243 117.9012856\n",
            " 120.53548338 108.96486768 125.91323817 161.7284757  102.67260582\n",
            " 132.66276499 116.46986624 151.36063941 122.66273412 121.80785946\n",
            " 120.38638348 117.27503597 119.29293445]\n"
          ]
        }
      ]
    },
    {
      "cell_type": "code",
      "source": [
        "from sklearn.metrics import mean_squared_error\n",
        "MSE = mean_squared_error(y_test, y_pred)\n",
        "RMSE = mean_squared_error(y_test, y_pred, squared=False)\n",
        "print(\"MSE is:\", MSE)\n",
        "print(\"RMSE is:\", RMSE)\n",
        "print(\"R_squared is:\", r_squared)"
      ],
      "metadata": {
        "colab": {
          "base_uri": "https://localhost:8080/"
        },
        "id": "jeNr5CrctfMR",
        "outputId": "8a5e3c71-de87-493e-ab30-eafe02d85fe3"
      },
      "execution_count": null,
      "outputs": [
        {
          "output_type": "stream",
          "name": "stdout",
          "text": [
            "MSE is: 0.31840748032184835\n",
            "RMSE is: 0.5642760674721624\n",
            "R_squared is: 0.9989365718042149\n"
          ]
        }
      ]
    },
    {
      "cell_type": "markdown",
      "source": [
        "# Multivariate Regression"
      ],
      "metadata": {
        "id": "sQaAaobxtomR"
      }
    },
    {
      "cell_type": "code",
      "source": [
        "x_data = dataset[[ 'Open', 'High', 'Low', 'Volume']]\n",
        "y_data = dataset['Close']"
      ],
      "metadata": {
        "id": "nY1oGDNotjsw"
      },
      "execution_count": null,
      "outputs": []
    },
    {
      "cell_type": "code",
      "source": [
        "x_data.head()"
      ],
      "metadata": {
        "colab": {
          "base_uri": "https://localhost:8080/",
          "height": 206
        },
        "id": "gKhVHzmJt3Rw",
        "outputId": "1231e075-3ab8-4e4b-a0f8-4904b0efdcb7"
      },
      "execution_count": null,
      "outputs": [
        {
          "output_type": "execute_result",
          "data": {
            "text/plain": [
              "         Open        High         Low    Volume\n",
              "0  154.740005  154.949997  151.710007  21521900\n",
              "1  154.309998  155.369995  153.899994  18124300\n",
              "2  155.479996  155.860001  154.360001  12547200\n",
              "3  156.820007  157.429993  156.580002   9136300\n",
              "4  156.979996  157.529999  156.130005  11996100"
            ],
            "text/html": [
              "\n",
              "  <div id=\"df-8a0ebda8-0fc5-4c0b-a68f-548b3b9aa2d4\" class=\"colab-df-container\">\n",
              "    <div>\n",
              "<style scoped>\n",
              "    .dataframe tbody tr th:only-of-type {\n",
              "        vertical-align: middle;\n",
              "    }\n",
              "\n",
              "    .dataframe tbody tr th {\n",
              "        vertical-align: top;\n",
              "    }\n",
              "\n",
              "    .dataframe thead th {\n",
              "        text-align: right;\n",
              "    }\n",
              "</style>\n",
              "<table border=\"1\" class=\"dataframe\">\n",
              "  <thead>\n",
              "    <tr style=\"text-align: right;\">\n",
              "      <th></th>\n",
              "      <th>Open</th>\n",
              "      <th>High</th>\n",
              "      <th>Low</th>\n",
              "      <th>Volume</th>\n",
              "    </tr>\n",
              "  </thead>\n",
              "  <tbody>\n",
              "    <tr>\n",
              "      <th>0</th>\n",
              "      <td>154.740005</td>\n",
              "      <td>154.949997</td>\n",
              "      <td>151.710007</td>\n",
              "      <td>21521900</td>\n",
              "    </tr>\n",
              "    <tr>\n",
              "      <th>1</th>\n",
              "      <td>154.309998</td>\n",
              "      <td>155.369995</td>\n",
              "      <td>153.899994</td>\n",
              "      <td>18124300</td>\n",
              "    </tr>\n",
              "    <tr>\n",
              "      <th>2</th>\n",
              "      <td>155.479996</td>\n",
              "      <td>155.860001</td>\n",
              "      <td>154.360001</td>\n",
              "      <td>12547200</td>\n",
              "    </tr>\n",
              "    <tr>\n",
              "      <th>3</th>\n",
              "      <td>156.820007</td>\n",
              "      <td>157.429993</td>\n",
              "      <td>156.580002</td>\n",
              "      <td>9136300</td>\n",
              "    </tr>\n",
              "    <tr>\n",
              "      <th>4</th>\n",
              "      <td>156.979996</td>\n",
              "      <td>157.529999</td>\n",
              "      <td>156.130005</td>\n",
              "      <td>11996100</td>\n",
              "    </tr>\n",
              "  </tbody>\n",
              "</table>\n",
              "</div>\n",
              "    <div class=\"colab-df-buttons\">\n",
              "\n",
              "  <div class=\"colab-df-container\">\n",
              "    <button class=\"colab-df-convert\" onclick=\"convertToInteractive('df-8a0ebda8-0fc5-4c0b-a68f-548b3b9aa2d4')\"\n",
              "            title=\"Convert this dataframe to an interactive table.\"\n",
              "            style=\"display:none;\">\n",
              "\n",
              "  <svg xmlns=\"http://www.w3.org/2000/svg\" height=\"24px\" viewBox=\"0 -960 960 960\">\n",
              "    <path d=\"M120-120v-720h720v720H120Zm60-500h600v-160H180v160Zm220 220h160v-160H400v160Zm0 220h160v-160H400v160ZM180-400h160v-160H180v160Zm440 0h160v-160H620v160ZM180-180h160v-160H180v160Zm440 0h160v-160H620v160Z\"/>\n",
              "  </svg>\n",
              "    </button>\n",
              "\n",
              "  <style>\n",
              "    .colab-df-container {\n",
              "      display:flex;\n",
              "      gap: 12px;\n",
              "    }\n",
              "\n",
              "    .colab-df-convert {\n",
              "      background-color: #E8F0FE;\n",
              "      border: none;\n",
              "      border-radius: 50%;\n",
              "      cursor: pointer;\n",
              "      display: none;\n",
              "      fill: #1967D2;\n",
              "      height: 32px;\n",
              "      padding: 0 0 0 0;\n",
              "      width: 32px;\n",
              "    }\n",
              "\n",
              "    .colab-df-convert:hover {\n",
              "      background-color: #E2EBFA;\n",
              "      box-shadow: 0px 1px 2px rgba(60, 64, 67, 0.3), 0px 1px 3px 1px rgba(60, 64, 67, 0.15);\n",
              "      fill: #174EA6;\n",
              "    }\n",
              "\n",
              "    .colab-df-buttons div {\n",
              "      margin-bottom: 4px;\n",
              "    }\n",
              "\n",
              "    [theme=dark] .colab-df-convert {\n",
              "      background-color: #3B4455;\n",
              "      fill: #D2E3FC;\n",
              "    }\n",
              "\n",
              "    [theme=dark] .colab-df-convert:hover {\n",
              "      background-color: #434B5C;\n",
              "      box-shadow: 0px 1px 3px 1px rgba(0, 0, 0, 0.15);\n",
              "      filter: drop-shadow(0px 1px 2px rgba(0, 0, 0, 0.3));\n",
              "      fill: #FFFFFF;\n",
              "    }\n",
              "  </style>\n",
              "\n",
              "    <script>\n",
              "      const buttonEl =\n",
              "        document.querySelector('#df-8a0ebda8-0fc5-4c0b-a68f-548b3b9aa2d4 button.colab-df-convert');\n",
              "      buttonEl.style.display =\n",
              "        google.colab.kernel.accessAllowed ? 'block' : 'none';\n",
              "\n",
              "      async function convertToInteractive(key) {\n",
              "        const element = document.querySelector('#df-8a0ebda8-0fc5-4c0b-a68f-548b3b9aa2d4');\n",
              "        const dataTable =\n",
              "          await google.colab.kernel.invokeFunction('convertToInteractive',\n",
              "                                                    [key], {});\n",
              "        if (!dataTable) return;\n",
              "\n",
              "        const docLinkHtml = 'Like what you see? Visit the ' +\n",
              "          '<a target=\"_blank\" href=https://colab.research.google.com/notebooks/data_table.ipynb>data table notebook</a>'\n",
              "          + ' to learn more about interactive tables.';\n",
              "        element.innerHTML = '';\n",
              "        dataTable['output_type'] = 'display_data';\n",
              "        await google.colab.output.renderOutput(dataTable, element);\n",
              "        const docLink = document.createElement('div');\n",
              "        docLink.innerHTML = docLinkHtml;\n",
              "        element.appendChild(docLink);\n",
              "      }\n",
              "    </script>\n",
              "  </div>\n",
              "\n",
              "\n",
              "<div id=\"df-7f0dcc4f-1734-47f2-a333-fab4920aa94a\">\n",
              "  <button class=\"colab-df-quickchart\" onclick=\"quickchart('df-7f0dcc4f-1734-47f2-a333-fab4920aa94a')\"\n",
              "            title=\"Suggest charts\"\n",
              "            style=\"display:none;\">\n",
              "\n",
              "<svg xmlns=\"http://www.w3.org/2000/svg\" height=\"24px\"viewBox=\"0 0 24 24\"\n",
              "     width=\"24px\">\n",
              "    <g>\n",
              "        <path d=\"M19 3H5c-1.1 0-2 .9-2 2v14c0 1.1.9 2 2 2h14c1.1 0 2-.9 2-2V5c0-1.1-.9-2-2-2zM9 17H7v-7h2v7zm4 0h-2V7h2v10zm4 0h-2v-4h2v4z\"/>\n",
              "    </g>\n",
              "</svg>\n",
              "  </button>\n",
              "\n",
              "<style>\n",
              "  .colab-df-quickchart {\n",
              "      --bg-color: #E8F0FE;\n",
              "      --fill-color: #1967D2;\n",
              "      --hover-bg-color: #E2EBFA;\n",
              "      --hover-fill-color: #174EA6;\n",
              "      --disabled-fill-color: #AAA;\n",
              "      --disabled-bg-color: #DDD;\n",
              "  }\n",
              "\n",
              "  [theme=dark] .colab-df-quickchart {\n",
              "      --bg-color: #3B4455;\n",
              "      --fill-color: #D2E3FC;\n",
              "      --hover-bg-color: #434B5C;\n",
              "      --hover-fill-color: #FFFFFF;\n",
              "      --disabled-bg-color: #3B4455;\n",
              "      --disabled-fill-color: #666;\n",
              "  }\n",
              "\n",
              "  .colab-df-quickchart {\n",
              "    background-color: var(--bg-color);\n",
              "    border: none;\n",
              "    border-radius: 50%;\n",
              "    cursor: pointer;\n",
              "    display: none;\n",
              "    fill: var(--fill-color);\n",
              "    height: 32px;\n",
              "    padding: 0;\n",
              "    width: 32px;\n",
              "  }\n",
              "\n",
              "  .colab-df-quickchart:hover {\n",
              "    background-color: var(--hover-bg-color);\n",
              "    box-shadow: 0 1px 2px rgba(60, 64, 67, 0.3), 0 1px 3px 1px rgba(60, 64, 67, 0.15);\n",
              "    fill: var(--button-hover-fill-color);\n",
              "  }\n",
              "\n",
              "  .colab-df-quickchart-complete:disabled,\n",
              "  .colab-df-quickchart-complete:disabled:hover {\n",
              "    background-color: var(--disabled-bg-color);\n",
              "    fill: var(--disabled-fill-color);\n",
              "    box-shadow: none;\n",
              "  }\n",
              "\n",
              "  .colab-df-spinner {\n",
              "    border: 2px solid var(--fill-color);\n",
              "    border-color: transparent;\n",
              "    border-bottom-color: var(--fill-color);\n",
              "    animation:\n",
              "      spin 1s steps(1) infinite;\n",
              "  }\n",
              "\n",
              "  @keyframes spin {\n",
              "    0% {\n",
              "      border-color: transparent;\n",
              "      border-bottom-color: var(--fill-color);\n",
              "      border-left-color: var(--fill-color);\n",
              "    }\n",
              "    20% {\n",
              "      border-color: transparent;\n",
              "      border-left-color: var(--fill-color);\n",
              "      border-top-color: var(--fill-color);\n",
              "    }\n",
              "    30% {\n",
              "      border-color: transparent;\n",
              "      border-left-color: var(--fill-color);\n",
              "      border-top-color: var(--fill-color);\n",
              "      border-right-color: var(--fill-color);\n",
              "    }\n",
              "    40% {\n",
              "      border-color: transparent;\n",
              "      border-right-color: var(--fill-color);\n",
              "      border-top-color: var(--fill-color);\n",
              "    }\n",
              "    60% {\n",
              "      border-color: transparent;\n",
              "      border-right-color: var(--fill-color);\n",
              "    }\n",
              "    80% {\n",
              "      border-color: transparent;\n",
              "      border-right-color: var(--fill-color);\n",
              "      border-bottom-color: var(--fill-color);\n",
              "    }\n",
              "    90% {\n",
              "      border-color: transparent;\n",
              "      border-bottom-color: var(--fill-color);\n",
              "    }\n",
              "  }\n",
              "</style>\n",
              "\n",
              "  <script>\n",
              "    async function quickchart(key) {\n",
              "      const quickchartButtonEl =\n",
              "        document.querySelector('#' + key + ' button');\n",
              "      quickchartButtonEl.disabled = true;  // To prevent multiple clicks.\n",
              "      quickchartButtonEl.classList.add('colab-df-spinner');\n",
              "      try {\n",
              "        const charts = await google.colab.kernel.invokeFunction(\n",
              "            'suggestCharts', [key], {});\n",
              "      } catch (error) {\n",
              "        console.error('Error during call to suggestCharts:', error);\n",
              "      }\n",
              "      quickchartButtonEl.classList.remove('colab-df-spinner');\n",
              "      quickchartButtonEl.classList.add('colab-df-quickchart-complete');\n",
              "    }\n",
              "    (() => {\n",
              "      let quickchartButtonEl =\n",
              "        document.querySelector('#df-7f0dcc4f-1734-47f2-a333-fab4920aa94a button');\n",
              "      quickchartButtonEl.style.display =\n",
              "        google.colab.kernel.accessAllowed ? 'block' : 'none';\n",
              "    })();\n",
              "  </script>\n",
              "</div>\n",
              "\n",
              "    </div>\n",
              "  </div>\n"
            ]
          },
          "metadata": {},
          "execution_count": 62
        }
      ]
    },
    {
      "cell_type": "code",
      "source": [
        "from sklearn.model_selection import train_test_split\n",
        "\n",
        "x_train, x_test, y_train, y_test = train_test_split(x_data, y_data, test_size=0.15, random_state=1)\n",
        "\n",
        "\n",
        "print(\"shape of training samples:\",x_train.shape)\n",
        "print(\"shape of test samples :\", x_test.shape)\n",
        "print(\"shape of train labels :\", y_train.shape)\n",
        "print(\"shape of test labels:\",y_test.shape)"
      ],
      "metadata": {
        "colab": {
          "base_uri": "https://localhost:8080/"
        },
        "id": "iYUyB3s8t6Q_",
        "outputId": "6bd87581-2612-40d7-b7de-a94604f53320"
      },
      "execution_count": null,
      "outputs": [
        {
          "output_type": "stream",
          "name": "stdout",
          "text": [
            "shape of training samples: (1460, 4)\n",
            "shape of test samples : (258, 4)\n",
            "shape of train labels : (1460,)\n",
            "shape of test labels: (258,)\n"
          ]
        }
      ]
    },
    {
      "cell_type": "code",
      "source": [
        "import matplotlib.pyplot as plt\n",
        "from sklearn.linear_model import LinearRegression\n",
        "lre=LinearRegression()\n",
        "\n",
        "lre.fit(x_train,y_train)"
      ],
      "metadata": {
        "colab": {
          "base_uri": "https://localhost:8080/",
          "height": 74
        },
        "id": "wlxo_Xb2t-OX",
        "outputId": "6d535b8c-d7c4-402b-c102-e6b3a53efee4"
      },
      "execution_count": null,
      "outputs": [
        {
          "output_type": "execute_result",
          "data": {
            "text/plain": [
              "LinearRegression()"
            ],
            "text/html": [
              "<style>#sk-container-id-4 {color: black;background-color: white;}#sk-container-id-4 pre{padding: 0;}#sk-container-id-4 div.sk-toggleable {background-color: white;}#sk-container-id-4 label.sk-toggleable__label {cursor: pointer;display: block;width: 100%;margin-bottom: 0;padding: 0.3em;box-sizing: border-box;text-align: center;}#sk-container-id-4 label.sk-toggleable__label-arrow:before {content: \"▸\";float: left;margin-right: 0.25em;color: #696969;}#sk-container-id-4 label.sk-toggleable__label-arrow:hover:before {color: black;}#sk-container-id-4 div.sk-estimator:hover label.sk-toggleable__label-arrow:before {color: black;}#sk-container-id-4 div.sk-toggleable__content {max-height: 0;max-width: 0;overflow: hidden;text-align: left;background-color: #f0f8ff;}#sk-container-id-4 div.sk-toggleable__content pre {margin: 0.2em;color: black;border-radius: 0.25em;background-color: #f0f8ff;}#sk-container-id-4 input.sk-toggleable__control:checked~div.sk-toggleable__content {max-height: 200px;max-width: 100%;overflow: auto;}#sk-container-id-4 input.sk-toggleable__control:checked~label.sk-toggleable__label-arrow:before {content: \"▾\";}#sk-container-id-4 div.sk-estimator input.sk-toggleable__control:checked~label.sk-toggleable__label {background-color: #d4ebff;}#sk-container-id-4 div.sk-label input.sk-toggleable__control:checked~label.sk-toggleable__label {background-color: #d4ebff;}#sk-container-id-4 input.sk-hidden--visually {border: 0;clip: rect(1px 1px 1px 1px);clip: rect(1px, 1px, 1px, 1px);height: 1px;margin: -1px;overflow: hidden;padding: 0;position: absolute;width: 1px;}#sk-container-id-4 div.sk-estimator {font-family: monospace;background-color: #f0f8ff;border: 1px dotted black;border-radius: 0.25em;box-sizing: border-box;margin-bottom: 0.5em;}#sk-container-id-4 div.sk-estimator:hover {background-color: #d4ebff;}#sk-container-id-4 div.sk-parallel-item::after {content: \"\";width: 100%;border-bottom: 1px solid gray;flex-grow: 1;}#sk-container-id-4 div.sk-label:hover label.sk-toggleable__label {background-color: #d4ebff;}#sk-container-id-4 div.sk-serial::before {content: \"\";position: absolute;border-left: 1px solid gray;box-sizing: border-box;top: 0;bottom: 0;left: 50%;z-index: 0;}#sk-container-id-4 div.sk-serial {display: flex;flex-direction: column;align-items: center;background-color: white;padding-right: 0.2em;padding-left: 0.2em;position: relative;}#sk-container-id-4 div.sk-item {position: relative;z-index: 1;}#sk-container-id-4 div.sk-parallel {display: flex;align-items: stretch;justify-content: center;background-color: white;position: relative;}#sk-container-id-4 div.sk-item::before, #sk-container-id-4 div.sk-parallel-item::before {content: \"\";position: absolute;border-left: 1px solid gray;box-sizing: border-box;top: 0;bottom: 0;left: 50%;z-index: -1;}#sk-container-id-4 div.sk-parallel-item {display: flex;flex-direction: column;z-index: 1;position: relative;background-color: white;}#sk-container-id-4 div.sk-parallel-item:first-child::after {align-self: flex-end;width: 50%;}#sk-container-id-4 div.sk-parallel-item:last-child::after {align-self: flex-start;width: 50%;}#sk-container-id-4 div.sk-parallel-item:only-child::after {width: 0;}#sk-container-id-4 div.sk-dashed-wrapped {border: 1px dashed gray;margin: 0 0.4em 0.5em 0.4em;box-sizing: border-box;padding-bottom: 0.4em;background-color: white;}#sk-container-id-4 div.sk-label label {font-family: monospace;font-weight: bold;display: inline-block;line-height: 1.2em;}#sk-container-id-4 div.sk-label-container {text-align: center;}#sk-container-id-4 div.sk-container {/* jupyter's `normalize.less` sets `[hidden] { display: none; }` but bootstrap.min.css set `[hidden] { display: none !important; }` so we also need the `!important` here to be able to override the default hidden behavior on the sphinx rendered scikit-learn.org. See: https://github.com/scikit-learn/scikit-learn/issues/21755 */display: inline-block !important;position: relative;}#sk-container-id-4 div.sk-text-repr-fallback {display: none;}</style><div id=\"sk-container-id-4\" class=\"sk-top-container\"><div class=\"sk-text-repr-fallback\"><pre>LinearRegression()</pre><b>In a Jupyter environment, please rerun this cell to show the HTML representation or trust the notebook. <br />On GitHub, the HTML representation is unable to render, please try loading this page with nbviewer.org.</b></div><div class=\"sk-container\" hidden><div class=\"sk-item\"><div class=\"sk-estimator sk-toggleable\"><input class=\"sk-toggleable__control sk-hidden--visually\" id=\"sk-estimator-id-4\" type=\"checkbox\" checked><label for=\"sk-estimator-id-4\" class=\"sk-toggleable__label sk-toggleable__label-arrow\">LinearRegression</label><div class=\"sk-toggleable__content\"><pre>LinearRegression()</pre></div></div></div></div></div>"
            ]
          },
          "metadata": {},
          "execution_count": 64
        }
      ]
    },
    {
      "cell_type": "code",
      "source": [
        "print(\"Intercept is \",lre.intercept_,\"\\n\",\"Coefficients are\",lre.coef_)"
      ],
      "metadata": {
        "colab": {
          "base_uri": "https://localhost:8080/"
        },
        "id": "8ok9yG22uDZ2",
        "outputId": "fa5ac831-27b9-49a0-abe3-cc2780cbbe8f"
      },
      "execution_count": null,
      "outputs": [
        {
          "output_type": "stream",
          "name": "stdout",
          "text": [
            "Intercept is  -0.14984535466015814 \n",
            " Coefficients are [-6.20977949e-01  8.70116894e-01  7.52140382e-01 -7.85236776e-09]\n"
          ]
        }
      ]
    },
    {
      "cell_type": "code",
      "source": [
        "r_squared = lre.score(x_test, y_test)\n",
        "print(\"R Square value is \",r_squared)"
      ],
      "metadata": {
        "colab": {
          "base_uri": "https://localhost:8080/"
        },
        "id": "BwtsoAJMuGcC",
        "outputId": "e8c98dca-70c0-482c-aed7-580858ce712f"
      },
      "execution_count": null,
      "outputs": [
        {
          "output_type": "stream",
          "name": "stdout",
          "text": [
            "R Square value is  0.999527744487787\n"
          ]
        }
      ]
    },
    {
      "cell_type": "code",
      "source": [
        "y_pred = lre.predict(x_test)\n",
        "print(f\"predicted response:\\n{y_pred}\")"
      ],
      "metadata": {
        "colab": {
          "base_uri": "https://localhost:8080/"
        },
        "id": "u-0c0vacuMC-",
        "outputId": "9f2970dc-a8fb-4d3a-d55a-b03748e23356"
      },
      "execution_count": null,
      "outputs": [
        {
          "output_type": "stream",
          "name": "stdout",
          "text": [
            "predicted response:\n",
            "[115.7989402  125.5648628  118.87506742 171.06611034 121.14611975\n",
            " 116.48292265 117.77425248 165.87883461 118.84112138 149.69106001\n",
            " 112.79307964 126.38168913 116.0053736  128.59256732 118.69029337\n",
            " 120.5774915  115.96639395 120.21174801 117.36709583 113.45553193\n",
            " 151.13682849 173.64263094 117.38030435 154.23901841 110.41676805\n",
            " 124.16506632 124.05470935 157.34485816 127.59142483 107.40841408\n",
            " 115.25055703 127.9260504  118.12753174 158.48880259 108.78403915\n",
            " 121.46224616 119.54701715 119.72255117 123.92484561 123.42050954\n",
            " 114.94380524 128.03678623 172.41022745 114.76381174 162.46831692\n",
            " 114.53692369 105.73547711 161.30415854 114.73607323 136.25366648\n",
            " 120.06877688 122.39962539 127.59324709 128.04396566 124.66747192\n",
            " 119.19111356 127.64521729 120.31387792 127.46512499 116.882676\n",
            " 125.3067166  113.65835164 152.90883956 124.84735335 155.28672003\n",
            " 116.00052982 120.75218762 126.49824822 126.39540024 120.08027188\n",
            " 116.4269184  112.04972666 154.47180905 123.02067058 162.54635092\n",
            " 119.30724685 105.76925624 154.42806365 118.36880073 126.00207363\n",
            " 124.14565552 114.82710982 110.54443935 116.92849015 113.87588755\n",
            " 169.1031791  125.39071969 123.64721068 116.77039277 117.45594003\n",
            " 159.91560843 150.19153419 124.7615762  101.71553534 104.9240967\n",
            " 107.7061566  114.72333235 161.39422291 110.76935998 123.77989258\n",
            " 159.5150675  121.17184429 156.42665355 161.55667448 121.40608145\n",
            " 121.23073704 107.61855706 171.00318293 135.92960972 167.76380346\n",
            " 118.74788465 117.44436349 117.07321149 159.55508931 107.82138344\n",
            " 162.38161152 155.52016627 123.80557931 114.52775161 118.6785838\n",
            " 122.67371823 109.03894116 126.25306903 114.18545474 125.723668\n",
            " 127.69263766 141.8881656  123.3024956  152.73572712 121.17856822\n",
            " 159.42656078 122.22432462 126.14372151 126.38862616 152.25911337\n",
            " 117.63831398 119.23511512 121.40193378 118.67149013 151.60113807\n",
            " 126.32136021 125.21554622 122.24301645 120.339264   113.50688338\n",
            " 126.65299161 124.19286114 126.66353556 126.82344271 122.74175379\n",
            " 113.59282579 158.99449434 117.38738989 119.90789921 116.12004172\n",
            " 131.03659494 153.9694236  153.91315888 118.46740128 119.24188907\n",
            " 118.73482087 113.17735149 115.21619743 132.82127589 121.20909957\n",
            " 126.14913804 112.52253925 115.99107397 157.14928575 126.22685576\n",
            " 108.34407363 115.98720766 118.36698352 152.62589812 156.66087195\n",
            " 108.98711799 113.57621994 113.89468636 131.33880232 104.03821975\n",
            " 119.34524301 117.41308178 168.45388535 127.19342068 169.49960372\n",
            " 126.15842797 105.25833706 126.98367113 126.2776633  115.93261845\n",
            " 128.35819964 119.41997738 121.36384576 122.95201061 122.31306681\n",
            " 152.52285853 125.74486365 119.26421832 134.58433699 121.90273193\n",
            " 115.22768242 115.03125955 156.55061142 127.577248   119.41091378\n",
            " 114.27149034 161.90588918 128.97465825 171.16110826 118.56732902\n",
            " 126.93883656 169.62680019 119.73652325 107.96875528 113.99863862\n",
            " 116.02096806 124.75881691 116.64520197 121.38139468 128.29232431\n",
            " 124.46607214 167.35234942 123.33724505 118.17117257 121.5394594\n",
            " 121.6166318  118.37745301 117.81808432 119.04374689 163.24899493\n",
            " 125.06735645 118.42085148 125.82946303 120.79707703 124.77938266\n",
            " 122.95799806 127.01756411 124.63227505 119.94844398 163.93798618\n",
            " 120.55668354 105.01342178 166.97139072 124.01568153 118.19961989\n",
            " 120.78353052 109.06968395 125.75145957 160.72296319 102.95078612\n",
            " 131.92573408 116.63612761 151.47425499 122.46905981 121.66856807\n",
            " 120.38793857 117.3375737  119.5550121 ]\n"
          ]
        }
      ]
    },
    {
      "cell_type": "code",
      "source": [
        "from sklearn.metrics import mean_squared_error\n",
        "MSE = mean_squared_error(y_test, y_pred)\n",
        "RMSE = mean_squared_error(y_test, y_pred, squared=False)\n",
        "print(\"MSE is:\", MSE)\n",
        "print(\"RMSE is:\", RMSE)\n",
        "print(\"R_squared is:\", r_squared)"
      ],
      "metadata": {
        "colab": {
          "base_uri": "https://localhost:8080/"
        },
        "id": "hCJAnH3VuO0_",
        "outputId": "e119aa6a-af04-4cf4-83c4-3ba675ed3323"
      },
      "execution_count": null,
      "outputs": [
        {
          "output_type": "stream",
          "name": "stdout",
          "text": [
            "MSE is: 0.14140088471214166\n",
            "RMSE is: 0.37603308991648815\n",
            "R_squared is: 0.999527744487787\n"
          ]
        }
      ]
    },
    {
      "cell_type": "markdown",
      "source": [
        "# Observe Variance Inflation Factor(VIF)"
      ],
      "metadata": {
        "id": "uedbvWAJuab5"
      }
    },
    {
      "cell_type": "code",
      "source": [
        "from statsmodels.stats.outliers_influence import variance_inflation_factor\n",
        "import statsmodels.api as sm\n",
        "\n",
        "X = dataset[['Open', 'High', 'Low', 'Volume']]\n",
        "y = dataset['Close']\n",
        "\n",
        "# Adding constant to predictor variables for intercept term\n",
        "X = sm.add_constant(X)\n",
        "\n",
        "# Computing VIF for each predictor variable\n",
        "vif = pd.DataFrame()\n",
        "vif[\"VIF Factor\"] = [variance_inflation_factor(X.values, i) for i in range(X.shape[1])]\n",
        "vif[\"predictor\"] = X.columns\n",
        "\n",
        "print(vif)"
      ],
      "metadata": {
        "colab": {
          "base_uri": "https://localhost:8080/"
        },
        "id": "5MQTa4qduSy5",
        "outputId": "dd77013f-c8b1-48e6-a183-9f91bd3c200d"
      },
      "execution_count": null,
      "outputs": [
        {
          "output_type": "stream",
          "name": "stdout",
          "text": [
            "    VIF Factor predictor\n",
            "0    55.233356     const\n",
            "1  1504.408695      Open\n",
            "2  1542.102676      High\n",
            "3  1531.945066       Low\n",
            "4     1.843480    Volume\n"
          ]
        }
      ]
    },
    {
      "cell_type": "markdown",
      "source": [
        "# Implement Ridge Regression Model"
      ],
      "metadata": {
        "id": "qCm2cZoYuy7F"
      }
    },
    {
      "cell_type": "code",
      "source": [
        "x_data = dataset['High']\n",
        "y_data = dataset['Close']\n",
        "# Creating each single feature as a vector\n",
        "x_data = np.array(x_data).reshape((-1,1))\n",
        "x_train, x_test, y_train, y_test = train_test_split(x_data, y_data, test_size=0.15, random_state=1)"
      ],
      "metadata": {
        "id": "H8XS6V0GuqSm"
      },
      "execution_count": null,
      "outputs": []
    },
    {
      "cell_type": "code",
      "source": [
        "from sklearn.linear_model import Ridge\n",
        "from sklearn.metrics import mean_squared_error\n",
        "\n",
        "ridge_model = Ridge(alpha=0.0)\n",
        "\n",
        "ridge_model.fit(x_train, y_train)\n",
        "\n",
        "y_pred = ridge_model.predict(x_test)\n",
        "\n",
        "print(\"RSquared Error : \", ridge_model.score(x_test,y_test))\n",
        "mse = mean_squared_error(y_test, y_pred)\n",
        "print(\"Mean Squared Error: \", mse)"
      ],
      "metadata": {
        "colab": {
          "base_uri": "https://localhost:8080/"
        },
        "id": "i7K8gouXu-Kg",
        "outputId": "4c48187f-8e4d-48ae-a0fd-df164f8037b3"
      },
      "execution_count": null,
      "outputs": [
        {
          "output_type": "stream",
          "name": "stdout",
          "text": [
            "RSquared Error :  0.9989365718042149\n",
            "Mean Squared Error:  0.3184074803218478\n"
          ]
        }
      ]
    },
    {
      "cell_type": "markdown",
      "source": [
        "# LASSO Regression Model"
      ],
      "metadata": {
        "id": "D_miyHGHvFk9"
      }
    },
    {
      "cell_type": "code",
      "source": [
        "from sklearn import datasets\n",
        "from sklearn.linear_model import Lasso\n",
        "\n",
        "# Creating an instance of Lasso Regression implementation\n",
        "lasso = Lasso(alpha=0.2)\n",
        "\n",
        "# Fitting the Lasso model\n",
        "lasso.fit(x_train, y_train)\n",
        "y_pred = lasso.predict(x_test)\n",
        "\n",
        "# Creating the model score\n",
        "\n",
        "print(\"Model Score : \",lasso.score(x_test, y_test))\n",
        "mse = mean_squared_error(y_test, y_pred)\n",
        "print(\"Mean Squared Error: \", mse)"
      ],
      "metadata": {
        "colab": {
          "base_uri": "https://localhost:8080/"
        },
        "id": "5IDPsJdTvBDi",
        "outputId": "a71cc928-27f6-46bc-d374-b0375e29c468"
      },
      "execution_count": null,
      "outputs": [
        {
          "output_type": "stream",
          "name": "stdout",
          "text": [
            "Model Score :  0.9989351669832551\n",
            "Mean Squared Error:  0.3188281062784484\n"
          ]
        }
      ]
    },
    {
      "cell_type": "markdown",
      "source": [
        "# Observation on above models"
      ],
      "metadata": {
        "id": "A2YmpkMpvQGe"
      }
    },
    {
      "cell_type": "markdown",
      "source": [
        "For Univariate model"
      ],
      "metadata": {
        "id": "lX-xAYY_vVAP"
      }
    },
    {
      "cell_type": "code",
      "source": [
        "X = dataset['High']\n",
        "y = dataset['Close']"
      ],
      "metadata": {
        "id": "4bRrpH4MvLpL"
      },
      "execution_count": null,
      "outputs": []
    },
    {
      "cell_type": "code",
      "source": [
        "# calculating the slope and intercept of the best-fit line\n",
        "slope = np.sum((X - np.mean(X)) * (y - np.mean(y))) / np.sum((X - np.mean(X)) ** 2)\n",
        "intercept = np.mean(y) - slope * np.mean(X)"
      ],
      "metadata": {
        "id": "cQ3b8rHoTRc-"
      },
      "execution_count": null,
      "outputs": []
    },
    {
      "cell_type": "code",
      "source": [
        "print(slope, intercept)"
      ],
      "metadata": {
        "colab": {
          "base_uri": "https://localhost:8080/"
        },
        "id": "zjutRs0jTVmx",
        "outputId": "47bbd6c0-842f-42e3-e5b2-00be0da517f6"
      },
      "execution_count": null,
      "outputs": [
        {
          "output_type": "stream",
          "name": "stdout",
          "text": [
            "0.9941541181687817 0.2126653254048989\n"
          ]
        }
      ]
    },
    {
      "cell_type": "code",
      "source": [
        "lre=LinearRegression()\n",
        "lre.fit(np.array(X).reshape((-1,1)),y)\n",
        "pred_slope = lre.coef_\n",
        "pred_intercept = lre.intercept_"
      ],
      "metadata": {
        "id": "AJG3MwsfUA0M"
      },
      "execution_count": null,
      "outputs": []
    },
    {
      "cell_type": "code",
      "source": [
        "print(pred_slope, pred_intercept)"
      ],
      "metadata": {
        "colab": {
          "base_uri": "https://localhost:8080/"
        },
        "id": "LIUMqfExUJ8i",
        "outputId": "c5602949-e3ea-44b0-ebe7-fc53bf4fbebc"
      },
      "execution_count": null,
      "outputs": [
        {
          "output_type": "stream",
          "name": "stdout",
          "text": [
            "[0.99415412] 0.21266532540485628\n"
          ]
        }
      ]
    },
    {
      "cell_type": "code",
      "source": [
        "# ploting the scatter plot and the best-fit line\n",
        "import matplotlib.pyplot as plt\n",
        "plt.scatter(X, y)\n",
        "plt.plot(X, slope * X + intercept, color='red')\n",
        "plt.xlabel('High')\n",
        "plt.ylabel('Close')\n",
        "plt.show()"
      ],
      "metadata": {
        "colab": {
          "base_uri": "https://localhost:8080/",
          "height": 449
        },
        "id": "FxAb5FIMTYUS",
        "outputId": "eb965c49-35e0-4513-b3ac-30b937484914"
      },
      "execution_count": null,
      "outputs": [
        {
          "output_type": "display_data",
          "data": {
            "text/plain": [
              "<Figure size 640x480 with 1 Axes>"
            ],
            "image/png": "[encoded data removed]"
          },
          "metadata": {}
        }
      ]
    },
    {
      "cell_type": "code",
      "source": [
        "# ploting the scatter plot and the best-fit line\n",
        "import matplotlib.pyplot as plt\n",
        "plt.scatter(X, y)\n",
        "plt.plot(X, slope * X + intercept, color='red')\n",
        "plt.plot(X, pred_slope * X + pred_intercept, color='green')\n",
        "plt.legend(['sample','actual','predicted'])\n",
        "plt.xlabel('High')\n",
        "plt.ylabel('Close')\n",
        "plt.show()"
      ],
      "metadata": {
        "colab": {
          "base_uri": "https://localhost:8080/",
          "height": 449
        },
        "id": "CLKd8g--Tawl",
        "outputId": "47bd1b00-f950-4caa-809f-a15e698b835d"
      },
      "execution_count": null,
      "outputs": [
        {
          "output_type": "display_data",
          "data": {
            "text/plain": [
              "<Figure size 640x480 with 1 Axes>"
            ],
            "image/png": "[encoded data removed]"
          },
          "metadata": {}
        }
      ]
    },
    {
      "cell_type": "markdown",
      "source": [
        "\n",
        "For Multivariate model"
      ],
      "metadata": {
        "id": "5OYMK96UUblg"
      }
    },
    {
      "cell_type": "code",
      "source": [
        "import numpy as np\n",
        "import matplotlib.pyplot as plt\n",
        "\n",
        "# input features ['Open', 'High', 'Low', 'Volume']\n",
        "open = dataset['Open']\n",
        "high = dataset['High']\n",
        "low = dataset['Low']\n",
        "\n",
        "# target variable\n",
        "close = dataset['Close']\n",
        "\n",
        "# combining input features into a single matrix\n",
        "X = np.column_stack((open, high, low))\n",
        "\n",
        "# adding a column of ones for the intercept term\n",
        "X = np.hstack((np.ones((len(X), 1)), X))\n",
        "\n",
        "# calculating the least squares solution for the model coefficients\n",
        "w = np.linalg.inv(X.T.dot(X)).dot(X.T).dot(close)\n",
        "\n",
        "# calculating predicted values of the target variable\n",
        "y_pred = X.dot(w)\n",
        "\n",
        "# ploting the scatter plot and best-fit line\n",
        "fig, ax = plt.subplots()\n",
        "ax.scatter(open, close)\n",
        "ax.plot(open, y_pred, color='red')\n",
        "ax.set_xlabel('open high low')\n",
        "ax.set_ylabel('close')\n",
        "plt.show()"
      ],
      "metadata": {
        "colab": {
          "base_uri": "https://localhost:8080/",
          "height": 449
        },
        "id": "aIfQlPjTV1kp",
        "outputId": "ccfbbe3d-10ca-4e5c-bca8-3451ada6a5ff"
      },
      "execution_count": null,
      "outputs": [
        {
          "output_type": "display_data",
          "data": {
            "text/plain": [
              "<Figure size 640x480 with 1 Axes>"
            ],
            "image/png": "[encoded data removed]"
          },
          "metadata": {}
        }
      ]
    },
    {
      "cell_type": "markdown",
      "source": [
        "# **THANK YOU**"
      ],
      "metadata": {
        "id": "469oBlG7RtXw"
      }
    }
  ]
}